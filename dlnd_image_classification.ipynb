{
 "cells": [
  {
   "cell_type": "markdown",
   "metadata": {
    "collapsed": true,
    "deletable": true,
    "editable": true
   },
   "source": [
    "# Image Classification\n",
    "In this project, you'll classify images from the [CIFAR-10 dataset](https://www.cs.toronto.edu/~kriz/cifar.html).  The dataset consists of airplanes, dogs, cats, and other objects. You'll preprocess the images, then train a convolutional neural network on all the samples. The images need to be normalized and the labels need to be one-hot encoded.  You'll get to apply what you learned and build a convolutional, max pooling, dropout, and fully connected layers.  At the end, you'll get to see your neural network's predictions on the sample images.\n",
    "## Get the Data\n",
    "Run the following cell to download the [CIFAR-10 dataset for python](https://www.cs.toronto.edu/~kriz/cifar-10-python.tar.gz)."
   ]
  },
  {
   "cell_type": "code",
   "execution_count": 2,
   "metadata": {
    "collapsed": false,
    "deletable": true,
    "editable": true
   },
   "outputs": [
    {
     "name": "stdout",
     "output_type": "stream",
     "text": [
      "All files found!\n"
     ]
    }
   ],
   "source": [
    "\"\"\"\n",
    "DON'T MODIFY ANYTHING IN THIS CELL THAT IS BELOW THIS LINE\n",
    "\"\"\"\n",
    "from urllib.request import urlretrieve\n",
    "from os.path import isfile, isdir\n",
    "from tqdm import tqdm\n",
    "import problem_unittests as tests\n",
    "import tarfile\n",
    "\n",
    "cifar10_dataset_folder_path = 'cifar-10-batches-py'\n",
    "\n",
    "class DLProgress(tqdm):\n",
    "    last_block = 0\n",
    "\n",
    "    def hook(self, block_num=1, block_size=1, total_size=None):\n",
    "        self.total = total_size\n",
    "        self.update((block_num - self.last_block) * block_size)\n",
    "        self.last_block = block_num\n",
    "\n",
    "if not isfile('cifar-10-python.tar.gz'):\n",
    "    with DLProgress(unit='B', unit_scale=True, miniters=1, desc='CIFAR-10 Dataset') as pbar:\n",
    "        urlretrieve(\n",
    "            'https://www.cs.toronto.edu/~kriz/cifar-10-python.tar.gz',\n",
    "            'cifar-10-python.tar.gz',\n",
    "            pbar.hook)\n",
    "\n",
    "if not isdir(cifar10_dataset_folder_path):\n",
    "    with tarfile.open('cifar-10-python.tar.gz') as tar:\n",
    "        tar.extractall()\n",
    "        tar.close()\n",
    "\n",
    "\n",
    "tests.test_folder_path(cifar10_dataset_folder_path)"
   ]
  },
  {
   "cell_type": "markdown",
   "metadata": {
    "deletable": true,
    "editable": true
   },
   "source": [
    "## Explore the Data\n",
    "The dataset is broken into batches to prevent your machine from running out of memory.  The CIFAR-10 dataset consists of 5 batches, named `data_batch_1`, `data_batch_2`, etc.. Each batch contains the labels and images that are one of the following:\n",
    "* airplane\n",
    "* automobile\n",
    "* bird\n",
    "* cat\n",
    "* deer\n",
    "* dog\n",
    "* frog\n",
    "* horse\n",
    "* ship\n",
    "* truck\n",
    "\n",
    "Understanding a dataset is part of making predictions on the data.  Play around with the code cell below by changing the `batch_id` and `sample_id`. The `batch_id` is the id for a batch (1-5). The `sample_id` is the id for a image and label pair in the batch.\n",
    "\n",
    "Ask yourself \"What are all possible labels?\", \"What is the range of values for the image data?\", \"Are the labels in order or random?\".  Answers to questions like these will help you preprocess the data and end up with better predictions."
   ]
  },
  {
   "cell_type": "code",
   "execution_count": 3,
   "metadata": {
    "collapsed": false,
    "deletable": true,
    "editable": true
   },
   "outputs": [
    {
     "name": "stdout",
     "output_type": "stream",
     "text": [
      "\n",
      "Stats of batch 1:\n",
      "Samples: 10000\n",
      "Label Counts: {0: 1005, 1: 974, 2: 1032, 3: 1016, 4: 999, 5: 937, 6: 1030, 7: 1001, 8: 1025, 9: 981}\n",
      "First 20 Labels: [6, 9, 9, 4, 1, 1, 2, 7, 8, 3, 4, 7, 7, 2, 9, 9, 9, 3, 2, 6]\n",
      "\n",
      "Example of Image 10:\n",
      "Image - Min Value: 24 Max Value: 130\n",
      "Image - Shape: (32, 32, 3)\n",
      "Label - Label Id: 4 Name: deer\n"
     ]
    },
    {
     "data": {
      "image/png": "[encoded data removed]",
      "text/plain": [
       "<matplotlib.figure.Figure at 0x7f2bc8a2ab38>"
      ]
     },
     "metadata": {
      "image/png": {
       "height": 250,
       "width": 253
      }
     },
     "output_type": "display_data"
    }
   ],
   "source": [
    "%matplotlib inline\n",
    "%config InlineBackend.figure_format = 'retina'\n",
    "\n",
    "import helper\n",
    "import numpy as np\n",
    "\n",
    "# Explore the dataset\n",
    "batch_id = 1\n",
    "sample_id = 10\n",
    "helper.display_stats(cifar10_dataset_folder_path, batch_id, sample_id)"
   ]
  },
  {
   "cell_type": "markdown",
   "metadata": {
    "deletable": true,
    "editable": true
   },
   "source": [
    "## Implement Preprocess Functions\n",
    "### Normalize\n",
    "In the cell below, implement the `normalize` function to take in image data, `x`, and return it as a normalized Numpy array. The values should be in the range of 0 to 1, inclusive.  The return object should be the same shape as `x`."
   ]
  },
  {
   "cell_type": "code",
   "execution_count": 3,
   "metadata": {
    "collapsed": false,
    "deletable": true,
    "editable": true
   },
   "outputs": [
    {
     "name": "stdout",
     "output_type": "stream",
     "text": [
      "Tests Passed\n"
     ]
    }
   ],
   "source": [
    "def normalize(x):\n",
    "    \"\"\"\n",
    "    Normalize a list of sample image data in the range of 0 to 1\n",
    "    : x: List of image data.  The image shape is (32, 32, 3)\n",
    "    : return: Numpy array of normalize data\n",
    "    \"\"\"\n",
    "    # TODO: Implement Function\n",
    "    return (x) / (255.0 - 0.0)\n",
    "\n",
    "\n",
    "\"\"\"\n",
    "DON'T MODIFY ANYTHING IN THIS CELL THAT IS BELOW THIS LINE\n",
    "\"\"\"\n",
    "tests.test_normalize(normalize)"
   ]
  },
  {
   "cell_type": "markdown",
   "metadata": {
    "deletable": true,
    "editable": true
   },
   "source": [
    "### One-hot encode\n",
    "Just like the previous code cell, you'll be implementing a function for preprocessing.  This time, you'll implement the `one_hot_encode` function. The input, `x`, are a list of labels.  Implement the function to return the list of labels as One-Hot encoded Numpy array.  The possible values for labels are 0 to 9. The one-hot encoding function should return the same encoding for each value between each call to `one_hot_encode`.  Make sure to save the map of encodings outside the function.\n",
    "\n",
    "Hint: Don't reinvent the wheel."
   ]
  },
  {
   "cell_type": "code",
   "execution_count": 4,
   "metadata": {
    "collapsed": false,
    "deletable": true,
    "editable": true
   },
   "outputs": [
    {
     "name": "stdout",
     "output_type": "stream",
     "text": [
      "Tests Passed\n"
     ]
    }
   ],
   "source": [
    "from sklearn import preprocessing\n",
    "\n",
    "lb = None\n",
    "\n",
    "def one_hot_encode(x):\n",
    "    \"\"\"\n",
    "    One hot encode a list of sample labels. Return a one-hot encoded vector for each label.\n",
    "    : x: List of sample Labels\n",
    "    : return: Numpy array of one-hot encoded labels\n",
    "    \"\"\"\n",
    "    # TODO: Implement Function\n",
    "    global lb\n",
    "    if lb == None:\n",
    "        lb = preprocessing.LabelBinarizer()\n",
    "        lb.fit(x)\n",
    "    return lb.transform(x)\n",
    "\n",
    "\n",
    "\"\"\"\n",
    "DON'T MODIFY ANYTHING IN THIS CELL THAT IS BELOW THIS LINE\n",
    "\"\"\"\n",
    "tests.test_one_hot_encode(one_hot_encode)"
   ]
  },
  {
   "cell_type": "markdown",
   "metadata": {
    "deletable": true,
    "editable": true
   },
   "source": [
    "### Randomize Data\n",
    "As you saw from exploring the data above, the order of the samples are randomized.  It doesn't hurt to randomize it again, but you don't need to for this dataset."
   ]
  },
  {
   "cell_type": "markdown",
   "metadata": {
    "deletable": true,
    "editable": true
   },
   "source": [
    "## Preprocess all the data and save it\n",
    "Running the code cell below will preprocess all the CIFAR-10 data and save it to file. The code below also uses 10% of the training data for validation."
   ]
  },
  {
   "cell_type": "code",
   "execution_count": 5,
   "metadata": {
    "collapsed": false,
    "deletable": true,
    "editable": true
   },
   "outputs": [],
   "source": [
    "\"\"\"\n",
    "DON'T MODIFY ANYTHING IN THIS CELL\n",
    "\"\"\"\n",
    "# Preprocess Training, Validation, and Testing Data\n",
    "helper.preprocess_and_save_data(cifar10_dataset_folder_path, normalize, one_hot_encode)"
   ]
  },
  {
   "cell_type": "markdown",
   "metadata": {
    "deletable": true,
    "editable": true
   },
   "source": [
    "# Check Point\n",
    "This is your first checkpoint.  If you ever decide to come back to this notebook or have to restart the notebook, you can start from here.  The preprocessed data has been saved to disk."
   ]
  },
  {
   "cell_type": "code",
   "execution_count": 1,
   "metadata": {
    "collapsed": true,
    "deletable": true,
    "editable": true
   },
   "outputs": [],
   "source": [
    "\"\"\"\n",
    "DON'T MODIFY ANYTHING IN THIS CELL\n",
    "\"\"\"\n",
    "import pickle\n",
    "import problem_unittests as tests\n",
    "import helper\n",
    "\n",
    "# Load the Preprocessed Validation data\n",
    "valid_features, valid_labels = pickle.load(open('preprocess_validation.p', mode='rb'))"
   ]
  },
  {
   "cell_type": "code",
   "execution_count": 2,
   "metadata": {
    "collapsed": false,
    "deletable": true,
    "editable": true
   },
   "outputs": [
    {
     "name": "stdout",
     "output_type": "stream",
     "text": [
      "[0 0 1 0 0 0 0 0 0 0]\n"
     ]
    }
   ],
   "source": [
    "print(valid_labels[1])"
   ]
  },
  {
   "cell_type": "markdown",
   "metadata": {
    "deletable": true,
    "editable": true
   },
   "source": [
    "## Build the network\n",
    "For the neural network, you'll build each layer into a function.  Most of the code you've seen has been outside of functions. To test your code more thoroughly, we require that you put each layer in a function.  This allows us to give you better feedback and test for simple mistakes using our unittests before you submit your project.\n",
    "\n",
    ">**Note:** If you're finding it hard to dedicate enough time for this course each week, we've provided a small shortcut to this part of the project. In the next couple of problems, you'll have the option to use classes from the [TensorFlow Layers](https://www.tensorflow.org/api_docs/python/tf/layers) or [TensorFlow Layers (contrib)](https://www.tensorflow.org/api_guides/python/contrib.layers) packages to build each layer, except the layers you build in the \"Convolutional and Max Pooling Layer\" section.  TF Layers is similar to Keras's and TFLearn's abstraction to layers, so it's easy to pickup.\n",
    "\n",
    ">However, if you would like to get the most out of this course, try to solve all the problems _without_ using anything from the TF Layers packages. You **can** still use classes from other packages that happen to have the same name as ones you find in TF Layers! For example, instead of using the TF Layers version of the `conv2d` class, [tf.layers.conv2d](https://www.tensorflow.org/api_docs/python/tf/layers/conv2d), you would want to use the TF Neural Network version of `conv2d`, [tf.nn.conv2d](https://www.tensorflow.org/api_docs/python/tf/nn/conv2d). \n",
    "\n",
    "Let's begin!\n",
    "\n",
    "### Input\n",
    "The neural network needs to read the image data, one-hot encoded labels, and dropout keep probability. Implement the following functions\n",
    "* Implement `neural_net_image_input`\n",
    " * Return a [TF Placeholder](https://www.tensorflow.org/api_docs/python/tf/placeholder)\n",
    " * Set the shape using `image_shape` with batch size set to `None`.\n",
    " * Name the TensorFlow placeholder \"x\" using the TensorFlow `name` parameter in the [TF Placeholder](https://www.tensorflow.org/api_docs/python/tf/placeholder).\n",
    "* Implement `neural_net_label_input`\n",
    " * Return a [TF Placeholder](https://www.tensorflow.org/api_docs/python/tf/placeholder)\n",
    " * Set the shape using `n_classes` with batch size set to `None`.\n",
    " * Name the TensorFlow placeholder \"y\" using the TensorFlow `name` parameter in the [TF Placeholder](https://www.tensorflow.org/api_docs/python/tf/placeholder).\n",
    "* Implement `neural_net_keep_prob_input`\n",
    " * Return a [TF Placeholder](https://www.tensorflow.org/api_docs/python/tf/placeholder) for dropout keep probability.\n",
    " * Name the TensorFlow placeholder \"keep_prob\" using the TensorFlow `name` parameter in the [TF Placeholder](https://www.tensorflow.org/api_docs/python/tf/placeholder).\n",
    "\n",
    "These names will be used at the end of the project to load your saved model.\n",
    "\n",
    "Note: `None` for shapes in TensorFlow allow for a dynamic size."
   ]
  },
  {
   "cell_type": "code",
   "execution_count": 3,
   "metadata": {
    "collapsed": false,
    "deletable": true,
    "editable": true
   },
   "outputs": [
    {
     "name": "stdout",
     "output_type": "stream",
     "text": [
      "Image Input Tests Passed.\n",
      "Label Input Tests Passed.\n",
      "Keep Prob Tests Passed.\n"
     ]
    }
   ],
   "source": [
    "import tensorflow as tf\n",
    "import numpy as np\n",
    "\n",
    "def neural_net_image_input(image_shape):\n",
    "    \"\"\"\n",
    "    Return a Tensor for a batch of image input\n",
    "    : image_shape: Shape of the images\n",
    "    : return: Tensor for image input.\n",
    "    \"\"\"\n",
    "    # TODO: Implement Function\n",
    "    return tf.placeholder(tf.float32, name=\"x\",shape=(None,32,32,3))\n",
    "\n",
    "\n",
    "def neural_net_label_input(n_classes):\n",
    "    \"\"\"\n",
    "    Return a Tensor for a batch of label input\n",
    "    : n_classes: Number of classes\n",
    "    : return: Tensor for label input.\n",
    "    \"\"\"\n",
    "    # TODO: Implement Function\n",
    "    return tf.placeholder(tf.float32, name=\"y\",shape=(None,10))\n",
    "\n",
    "\n",
    "def neural_net_keep_prob_input():\n",
    "    \"\"\"\n",
    "    Return a Tensor for keep probability\n",
    "    : return: Tensor for keep probability.\n",
    "    \"\"\"\n",
    "    # TODO: Implement Function\n",
    "    return tf.placeholder(tf.float32, name=\"keep_prob\")\n",
    "\n",
    "\n",
    "\"\"\"\n",
    "DON'T MODIFY ANYTHING IN THIS CELL THAT IS BELOW THIS LINE\n",
    "\"\"\"\n",
    "tf.reset_default_graph()\n",
    "tests.test_nn_image_inputs(neural_net_image_input)\n",
    "tests.test_nn_label_inputs(neural_net_label_input)\n",
    "tests.test_nn_keep_prob_inputs(neural_net_keep_prob_input)"
   ]
  },
  {
   "cell_type": "markdown",
   "metadata": {
    "deletable": true,
    "editable": true
   },
   "source": [
    "### Convolution and Max Pooling Layer\n",
    "Convolution layers have a lot of success with images. For this code cell, you should implement the function `conv2d_maxpool` to apply convolution then max pooling:\n",
    "* Create the weight and bias using `conv_ksize`, `conv_num_outputs` and the shape of `x_tensor`.\n",
    "* Apply a convolution to `x_tensor` using weight and `conv_strides`.\n",
    " * We recommend you use same padding, but you're welcome to use any padding.\n",
    "* Add bias\n",
    "* Add a nonlinear activation to the convolution.\n",
    "* Apply Max Pooling using `pool_ksize` and `pool_strides`.\n",
    " * We recommend you use same padding, but you're welcome to use any padding.\n",
    "\n",
    "**Note:** You **can't** use [TensorFlow Layers](https://www.tensorflow.org/api_docs/python/tf/layers) or [TensorFlow Layers (contrib)](https://www.tensorflow.org/api_guides/python/contrib.layers) for **this** layer, but you can still use TensorFlow's [Neural Network](https://www.tensorflow.org/api_docs/python/tf/nn) package. You may still use the shortcut option for all the **other** layers."
   ]
  },
  {
   "cell_type": "code",
   "execution_count": 4,
   "metadata": {
    "collapsed": false,
    "deletable": true,
    "editable": true
   },
   "outputs": [
    {
     "name": "stdout",
     "output_type": "stream",
     "text": [
      "Tests Passed\n"
     ]
    }
   ],
   "source": [
    "def conv2d_maxpool(x_tensor, conv_num_outputs, conv_ksize, conv_strides, pool_ksize, pool_strides):\n",
    "    \"\"\"\n",
    "    Apply convolution then max pooling to x_tensor\n",
    "    :param x_tensor: TensorFlow Tensor\n",
    "    :param conv_num_outputs: Number of outputs for the convolutional layer\n",
    "    :param conv_ksize: kernal size 2-D Tuple for the convolutional layer\n",
    "    :param conv_strides: Stride 2-D Tuple for convolution\n",
    "    :param pool_ksize: kernal size 2-D Tuple for pool\n",
    "    :param pool_strides: Stride 2-D Tuple for pool\n",
    "    : return: A tensor that represents convolution and max pooling of x_tensor\n",
    "    \"\"\"\n",
    "    # TODO: Implement Function\n",
    "    # do i do con then maxpool or can i go straight to maxpool\n",
    "    #ksize and conv_strings can give\n",
    "    input_dims = x_tensor.get_shape().as_list()\n",
    "    height= input_dims[1]\n",
    "    width = input_dims[2]\n",
    "    depth = input_dims[3]\n",
    "    #print(conv_strides) #4x4\n",
    "    \n",
    "    new_height = height - conv_ksize[0]  * conv_strides[0] + 1\n",
    "    new_width = width - conv_ksize[1]  * conv_strides[1] + 1\n",
    "    # filter size, input channels, output channels\n",
    "    \n",
    "    filter_weight = tf.Variable(tf.truncated_normal([new_height, new_width, depth, conv_num_outputs], stddev=0.1))\n",
    "    filter_bias = tf.Variable(tf.zeros(conv_num_outputs))\n",
    "    conv2d = tf.nn.conv2d(x_tensor, filter_weight, strides=[1, conv_strides[0], conv_strides[1], 1], padding = 'SAME') \n",
    "    conv2d = tf.nn.bias_add(conv2d, filter_bias)\n",
    "    conv2d = tf.nn.relu(conv2d)\n",
    "    \n",
    "    return tf.nn.max_pool(conv2d, [1, pool_ksize[0], pool_ksize[1], 1], strides=[1, pool_strides[0], pool_strides[1], 1], padding = 'SAME')\n",
    "\n",
    "\n",
    "\"\"\"\n",
    "DON'T MODIFY ANYTHING IN THIS CELL THAT IS BELOW THIS LINE\n",
    "\"\"\"\n",
    "tests.test_con_pool(conv2d_maxpool)"
   ]
  },
  {
   "cell_type": "markdown",
   "metadata": {
    "deletable": true,
    "editable": true
   },
   "source": [
    "### Flatten Layer\n",
    "Implement the `flatten` function to change the dimension of `x_tensor` from a 4-D tensor to a 2-D tensor.  The output should be the shape (*Batch Size*, *Flattened Image Size*). Shortcut option: you can use classes from the [TensorFlow Layers](https://www.tensorflow.org/api_docs/python/tf/layers) or [TensorFlow Layers (contrib)](https://www.tensorflow.org/api_guides/python/contrib.layers) packages for this layer. For more of a challenge, only use other TensorFlow packages."
   ]
  },
  {
   "cell_type": "code",
   "execution_count": 5,
   "metadata": {
    "collapsed": false,
    "deletable": true,
    "editable": true
   },
   "outputs": [
    {
     "name": "stdout",
     "output_type": "stream",
     "text": [
      "Tests Passed\n"
     ]
    }
   ],
   "source": [
    "def flatten(x_tensor):\n",
    "    \"\"\"\n",
    "    Flatten x_tensor to (Batch Size, Flattened Image Size)\n",
    "    : x_tensor: A tensor of size (Batch Size, ...), where ... are the image dimensions.\n",
    "    : return: A tensor of size (Batch Size, Flattened Image Size).\n",
    "    \"\"\"\n",
    "    # TODO: Implement Function\n",
    "    row_size = np.prod(x_tensor.get_shape().as_list()[1:])\n",
    "    #print(row_size)\n",
    "    return tf.reshape(x_tensor, shape=[-1, row_size])\n",
    "\n",
    "\n",
    "\"\"\"\n",
    "DON'T MODIFY ANYTHING IN THIS CELL THAT IS BELOW THIS LINE\n",
    "\"\"\"\n",
    "tests.test_flatten(flatten)"
   ]
  },
  {
   "cell_type": "markdown",
   "metadata": {
    "deletable": true,
    "editable": true
   },
   "source": [
    "### Fully-Connected Layer\n",
    "Implement the `fully_conn` function to apply a fully connected layer to `x_tensor` with the shape (*Batch Size*, *num_outputs*). Shortcut option: you can use classes from the [TensorFlow Layers](https://www.tensorflow.org/api_docs/python/tf/layers) or [TensorFlow Layers (contrib)](https://www.tensorflow.org/api_guides/python/contrib.layers) packages for this layer. For more of a challenge, only use other TensorFlow packages."
   ]
  },
  {
   "cell_type": "code",
   "execution_count": 6,
   "metadata": {
    "collapsed": false,
    "deletable": true,
    "editable": true
   },
   "outputs": [
    {
     "name": "stdout",
     "output_type": "stream",
     "text": [
      "Tests Passed\n"
     ]
    }
   ],
   "source": [
    "def fully_conn(x_tensor, num_outputs):\n",
    "    \"\"\"\n",
    "    Apply a fully connected layer to x_tensor using weight and bias\n",
    "    : x_tensor: A 2-D tensor where the first dimension is batch size.\n",
    "    : num_outputs: The number of output that the new tensor should be.\n",
    "    : return: A 2-D tensor where the second dimension is num_outputs.\n",
    "    \"\"\"\n",
    "    # TODO: Implement Function\n",
    "    # TODO: do it the hard way\n",
    "    #filter_bias = tf.Variable(tf.zeros(conv_num_outputs))\n",
    "    fc = tf.layers.dense(x_tensor, num_outputs)\n",
    "    return tf.nn.relu(fc)\n",
    "\n",
    "\n",
    "\"\"\"\n",
    "DON'T MODIFY ANYTHING IN THIS CELL THAT IS BELOW THIS LINE\n",
    "\"\"\"\n",
    "tests.test_fully_conn(fully_conn)"
   ]
  },
  {
   "cell_type": "markdown",
   "metadata": {
    "deletable": true,
    "editable": true
   },
   "source": [
    "### Output Layer\n",
    "Implement the `output` function to apply a fully connected layer to `x_tensor` with the shape (*Batch Size*, *num_outputs*). Shortcut option: you can use classes from the [TensorFlow Layers](https://www.tensorflow.org/api_docs/python/tf/layers) or [TensorFlow Layers (contrib)](https://www.tensorflow.org/api_guides/python/contrib.layers) packages for this layer. For more of a challenge, only use other TensorFlow packages.\n",
    "\n",
    "**Note:** Activation, softmax, or cross entropy should **not** be applied to this."
   ]
  },
  {
   "cell_type": "code",
   "execution_count": 7,
   "metadata": {
    "collapsed": false,
    "deletable": true,
    "editable": true
   },
   "outputs": [
    {
     "name": "stdout",
     "output_type": "stream",
     "text": [
      "Tests Passed\n"
     ]
    }
   ],
   "source": [
    "def output(x_tensor, num_outputs):\n",
    "    \"\"\"\n",
    "    Apply a output layer to x_tensor using weight and bias\n",
    "    : x_tensor: A 2-D tensor where the first dimension is batch size.\n",
    "    : num_outputs: The number of output that the new tensor should be.\n",
    "    : return: A 2-D tensor where the second dimension is num_outputs.\n",
    "    \"\"\"\n",
    "    # TODO: Implement Function\n",
    "    #print(x_tensor)\n",
    "    #print(num_outputs)\n",
    "    my_output = tf.layers.dense(x_tensor, num_outputs)\n",
    "    return my_output\n",
    "    #return tf.placeholder(tf.float32, shape=[None, num_outputs])\n",
    "    #why placeholder did not work?\n",
    "\n",
    "\n",
    "\"\"\"\n",
    "DON'T MODIFY ANYTHING IN THIS CELL THAT IS BELOW THIS LINE\n",
    "\"\"\"\n",
    "tests.test_output(output)"
   ]
  },
  {
   "cell_type": "markdown",
   "metadata": {
    "deletable": true,
    "editable": true
   },
   "source": [
    "### Create Convolutional Model\n",
    "Implement the function `conv_net` to create a convolutional neural network model. The function takes in a batch of images, `x`, and outputs logits.  Use the layers you created above to create this model:\n",
    "\n",
    "* Apply 1, 2, or 3 Convolution and Max Pool layers\n",
    "* Apply a Flatten Layer\n",
    "* Apply 1, 2, or 3 Fully Connected Layers\n",
    "* Apply an Output Layer\n",
    "* Return the output\n",
    "* Apply [TensorFlow's Dropout](https://www.tensorflow.org/api_docs/python/tf/nn/dropout) to one or more layers in the model using `keep_prob`. "
   ]
  },
  {
   "cell_type": "code",
   "execution_count": 8,
   "metadata": {
    "collapsed": false,
    "deletable": true,
    "editable": true
   },
   "outputs": [
    {
     "name": "stdout",
     "output_type": "stream",
     "text": [
      "Neural Network Built!\n"
     ]
    }
   ],
   "source": [
    "def conv_net(x, keep_prob):\n",
    "    \"\"\"\n",
    "    Create a convolutional neural network model\n",
    "    : x: Placeholder tensor that holds image data.\n",
    "    : keep_prob: Placeholder tensor that hold dropout keep probability.\n",
    "    : return: Tensor that represents logits\n",
    "    \"\"\"\n",
    "    # TODO: Apply 1, 2, or 3 Convolution and Max Pool layers\n",
    "    #    Play around with different number of outputs, kernel size and stride\n",
    "    # Function Definition from Above:\n",
    "    #    conv2d_maxpool(x_tensor, conv_num_outputs, conv_ksize, conv_strides, pool_ksize, pool_strides)\n",
    "    conv1_num_outputs = 64 # layers?\n",
    "    conv1_ksize = [5,5]\n",
    "    conv1_strides = [3,3]\n",
    "    pool1_ksize=[3,3]\n",
    "    pool1_strides=[3,3]\n",
    "    \n",
    "    conv1 = conv2d_maxpool(x, conv1_num_outputs, conv1_ksize, conv1_strides, pool1_ksize, pool1_strides)\n",
    "    # TODO: stick in dropout\n",
    "    conv1 = tf.nn.dropout(conv1, keep_prob)\n",
    "    #print(conv1)\n",
    "    \n",
    "    conv2_num_outputs = 128 # layers?\n",
    "    conv2_ksize = [4,4]\n",
    "    conv2_strides = [1,1]\n",
    "    pool2_ksize=[2,2]\n",
    "    pool2_strides=[2,2]\n",
    "    \n",
    "    conv2 = conv2d_maxpool(conv1, conv2_num_outputs, conv2_ksize, conv2_strides, pool2_ksize, pool2_strides)\n",
    "    \n",
    "    conv2 = tf.nn.dropout(conv2, keep_prob)\n",
    "    \n",
    "\n",
    "    \n",
    "    # TODO: Apply a Flatten Layer\n",
    "    # Function Definition from Above:\n",
    "    #   flatten(x_tensor)\n",
    "    flat1 = flatten(conv2)\n",
    "    #print(flat1)\n",
    "\n",
    "    # TODO: Apply 1, 2, or 3 Fully Connected Layers\n",
    "    #    Play around with different number of outputs\n",
    "    # Function Definition from Above:\n",
    "    #   fully_conn(x_tensor, num_outputs)\n",
    "    fully1 = fully_conn(flat1, 512)\n",
    "    #print(fully1)\n",
    "    fully1 = tf.nn.dropout(fully1, keep_prob)\n",
    "    \n",
    "    # TODO: Apply an Output Layer\n",
    "    #    Set this to the number of classes\n",
    "    # Function Definition from Above:\n",
    "    #   output(x_tensor, num_outputs)\n",
    "    final_output = output(fully1, 10)\n",
    "    \n",
    "    #print(final_output)\n",
    "    # TODO: return output\n",
    "    return final_output\n",
    "\n",
    "\n",
    "\"\"\"\n",
    "DON'T MODIFY ANYTHING IN THIS CELL THAT IS BELOW THIS LINE\n",
    "\"\"\"\n",
    "\n",
    "##############################\n",
    "## Build the Neural Network ##\n",
    "##############################\n",
    "\n",
    "# Remove previous weights, bias, inputs, etc..\n",
    "tf.reset_default_graph()\n",
    "\n",
    "# Inputs\n",
    "x = neural_net_image_input((32, 32, 3))\n",
    "y = neural_net_label_input(10)\n",
    "keep_prob = neural_net_keep_prob_input()\n",
    "\n",
    "# Model\n",
    "logits = conv_net(x, keep_prob)\n",
    "\n",
    "# Name logits Tensor, so that is can be loaded from disk after training\n",
    "logits = tf.identity(logits, name='logits')\n",
    "\n",
    "# Loss and Optimizer\n",
    "cost = tf.reduce_mean(tf.nn.softmax_cross_entropy_with_logits(logits=logits, labels=y))\n",
    "optimizer = tf.train.AdamOptimizer().minimize(cost)\n",
    "\n",
    "# Accuracy\n",
    "correct_pred = tf.equal(tf.argmax(logits, 1), tf.argmax(y, 1))\n",
    "accuracy = tf.reduce_mean(tf.cast(correct_pred, tf.float32), name='accuracy')\n",
    "\n",
    "tests.test_conv_net(conv_net)"
   ]
  },
  {
   "cell_type": "markdown",
   "metadata": {
    "deletable": true,
    "editable": true
   },
   "source": [
    "## Train the Neural Network\n",
    "### Single Optimization\n",
    "Implement the function `train_neural_network` to do a single optimization.  The optimization should use `optimizer` to optimize in `session` with a `feed_dict` of the following:\n",
    "* `x` for image input\n",
    "* `y` for labels\n",
    "* `keep_prob` for keep probability for dropout\n",
    "\n",
    "This function will be called for each batch, so `tf.global_variables_initializer()` has already been called.\n",
    "\n",
    "Note: Nothing needs to be returned. This function is only optimizing the neural network."
   ]
  },
  {
   "cell_type": "code",
   "execution_count": 9,
   "metadata": {
    "collapsed": false,
    "deletable": true,
    "editable": true
   },
   "outputs": [
    {
     "name": "stdout",
     "output_type": "stream",
     "text": [
      "Tests Passed\n"
     ]
    }
   ],
   "source": [
    "def train_neural_network(session, optimizer, keep_probability, feature_batch, label_batch):\n",
    "    \"\"\"\n",
    "    Optimize the session on a batch of images and labels\n",
    "    : session: Current TensorFlow session\n",
    "    : optimizer: TensorFlow optimizer function\n",
    "    : keep_probability: keep probability\n",
    "    : feature_batch: Batch of Numpy image data\n",
    "    : label_batch: Batch of Numpy label data\n",
    "    \"\"\"\n",
    "    # TODO: Implement Function\n",
    "    session.run(optimizer, feed_dict={x: feature_batch, y:label_batch, keep_prob:keep_probability })\n",
    "    #pass\n",
    "\n",
    "\n",
    "\"\"\"\n",
    "DON'T MODIFY ANYTHING IN THIS CELL THAT IS BELOW THIS LINE\n",
    "\"\"\"\n",
    "tests.test_train_nn(train_neural_network)"
   ]
  },
  {
   "cell_type": "markdown",
   "metadata": {
    "deletable": true,
    "editable": true
   },
   "source": [
    "### Show Stats\n",
    "Implement the function `print_stats` to print loss and validation accuracy.  Use the global variables `valid_features` and `valid_labels` to calculate validation accuracy.  Use a keep probability of `1.0` to calculate the loss and validation accuracy."
   ]
  },
  {
   "cell_type": "code",
   "execution_count": 10,
   "metadata": {
    "collapsed": false,
    "deletable": true,
    "editable": true
   },
   "outputs": [],
   "source": [
    "def print_stats(session, feature_batch, label_batch, cost, accuracy):\n",
    "    \"\"\"\n",
    "    Print information about loss and validation accuracy\n",
    "    : session: Current TensorFlow session\n",
    "    : feature_batch: Batch of Numpy image data\n",
    "    : label_batch: Batch of Numpy label data\n",
    "    : cost: TensorFlow cost function\n",
    "    : accuracy: TensorFlow accuracy function\n",
    "    \"\"\"\n",
    "    # TODO: Implement Function\n",
    "    loss = session.run(cost, feed_dict={x: feature_batch, y:label_batch, keep_prob:1 })\n",
    "    acc = session.run(accuracy, feed_dict={x: valid_features, y:valid_labels, keep_prob:1 })\n",
    "    print('Loss: {:>10.4f} Validation Accuracy: {:.6f}'.format(loss, acc))"
   ]
  },
  {
   "cell_type": "markdown",
   "metadata": {
    "deletable": true,
    "editable": true
   },
   "source": [
    "### Hyperparameters\n",
    "Tune the following parameters:\n",
    "* Set `epochs` to the number of iterations until the network stops learning or start overfitting\n",
    "* Set `batch_size` to the highest number that your machine has memory for.  Most people set them to common sizes of memory:\n",
    " * 64\n",
    " * 128\n",
    " * 256\n",
    " * ...\n",
    "* Set `keep_probability` to the probability of keeping a node using dropout"
   ]
  },
  {
   "cell_type": "code",
   "execution_count": 11,
   "metadata": {
    "collapsed": true,
    "deletable": true,
    "editable": true
   },
   "outputs": [],
   "source": [
    "# TODO: Tune Parameters\n",
    "epochs = 50\n",
    "batch_size = 128\n",
    "keep_probability = .75"
   ]
  },
  {
   "cell_type": "markdown",
   "metadata": {
    "deletable": true,
    "editable": true
   },
   "source": [
    "### Train on a Single CIFAR-10 Batch\n",
    "Instead of training the neural network on all the CIFAR-10 batches of data, let's use a single batch. This should save time while you iterate on the model to get a better accuracy.  Once the final validation accuracy is 50% or greater, run the model on all the data in the next section."
   ]
  },
  {
   "cell_type": "code",
   "execution_count": 12,
   "metadata": {
    "collapsed": false,
    "deletable": true,
    "editable": true,
    "scrolled": true
   },
   "outputs": [
    {
     "name": "stdout",
     "output_type": "stream",
     "text": [
      "Checking the Training on a Single Batch...\n",
      "Epoch  1, CIFAR-10 Batch 1:  Loss:     2.1395 Validation Accuracy: 0.316200\n",
      "Epoch  2, CIFAR-10 Batch 1:  Loss:     2.0577 Validation Accuracy: 0.357600\n",
      "Epoch  3, CIFAR-10 Batch 1:  Loss:     1.9574 Validation Accuracy: 0.394400\n",
      "Epoch  4, CIFAR-10 Batch 1:  Loss:     1.8232 Validation Accuracy: 0.409000\n",
      "Epoch  5, CIFAR-10 Batch 1:  Loss:     1.7635 Validation Accuracy: 0.416000\n",
      "Epoch  6, CIFAR-10 Batch 1:  Loss:     1.7409 Validation Accuracy: 0.413200\n",
      "Epoch  7, CIFAR-10 Batch 1:  Loss:     1.6086 Validation Accuracy: 0.422600\n",
      "Epoch  8, CIFAR-10 Batch 1:  Loss:     1.6306 Validation Accuracy: 0.435800\n",
      "Epoch  9, CIFAR-10 Batch 1:  Loss:     1.5712 Validation Accuracy: 0.442400\n",
      "Epoch 10, CIFAR-10 Batch 1:  Loss:     1.5523 Validation Accuracy: 0.448200\n",
      "Epoch 11, CIFAR-10 Batch 1:  Loss:     1.5103 Validation Accuracy: 0.461600\n",
      "Epoch 12, CIFAR-10 Batch 1:  Loss:     1.4763 Validation Accuracy: 0.463400\n",
      "Epoch 13, CIFAR-10 Batch 1:  Loss:     1.4667 Validation Accuracy: 0.459000\n",
      "Epoch 14, CIFAR-10 Batch 1:  Loss:     1.4408 Validation Accuracy: 0.466400\n",
      "Epoch 15, CIFAR-10 Batch 1:  Loss:     1.4071 Validation Accuracy: 0.465800\n",
      "Epoch 16, CIFAR-10 Batch 1:  Loss:     1.3774 Validation Accuracy: 0.467600\n",
      "Epoch 17, CIFAR-10 Batch 1:  Loss:     1.3345 Validation Accuracy: 0.476800\n",
      "Epoch 18, CIFAR-10 Batch 1:  Loss:     1.3072 Validation Accuracy: 0.479800\n",
      "Epoch 19, CIFAR-10 Batch 1:  Loss:     1.2980 Validation Accuracy: 0.475800\n",
      "Epoch 20, CIFAR-10 Batch 1:  Loss:     1.2911 Validation Accuracy: 0.483400\n",
      "Epoch 21, CIFAR-10 Batch 1:  Loss:     1.2677 Validation Accuracy: 0.469600\n",
      "Epoch 22, CIFAR-10 Batch 1:  Loss:     1.2350 Validation Accuracy: 0.475400\n",
      "Epoch 23, CIFAR-10 Batch 1:  Loss:     1.1665 Validation Accuracy: 0.475800\n",
      "Epoch 24, CIFAR-10 Batch 1:  Loss:     1.1144 Validation Accuracy: 0.479800\n",
      "Epoch 25, CIFAR-10 Batch 1:  Loss:     1.2022 Validation Accuracy: 0.491600\n",
      "Epoch 26, CIFAR-10 Batch 1:  Loss:     1.1541 Validation Accuracy: 0.497800\n",
      "Epoch 27, CIFAR-10 Batch 1:  Loss:     1.0881 Validation Accuracy: 0.503200\n",
      "Epoch 28, CIFAR-10 Batch 1:  Loss:     1.0428 Validation Accuracy: 0.496200\n",
      "Epoch 29, CIFAR-10 Batch 1:  Loss:     1.0216 Validation Accuracy: 0.493200\n",
      "Epoch 30, CIFAR-10 Batch 1:  Loss:     1.0275 Validation Accuracy: 0.497600\n",
      "Epoch 31, CIFAR-10 Batch 1:  Loss:     1.0055 Validation Accuracy: 0.493000\n",
      "Epoch 32, CIFAR-10 Batch 1:  Loss:     0.9720 Validation Accuracy: 0.500200\n",
      "Epoch 33, CIFAR-10 Batch 1:  Loss:     0.9429 Validation Accuracy: 0.500400\n",
      "Epoch 34, CIFAR-10 Batch 1:  Loss:     0.9095 Validation Accuracy: 0.509600\n",
      "Epoch 35, CIFAR-10 Batch 1:  Loss:     0.8501 Validation Accuracy: 0.507200\n",
      "Epoch 36, CIFAR-10 Batch 1:  Loss:     0.8869 Validation Accuracy: 0.500600\n",
      "Epoch 37, CIFAR-10 Batch 1:  Loss:     0.8335 Validation Accuracy: 0.511800\n",
      "Epoch 38, CIFAR-10 Batch 1:  Loss:     0.8113 Validation Accuracy: 0.513600\n",
      "Epoch 39, CIFAR-10 Batch 1:  Loss:     0.7632 Validation Accuracy: 0.507200\n",
      "Epoch 40, CIFAR-10 Batch 1:  Loss:     0.7459 Validation Accuracy: 0.519600\n",
      "Epoch 41, CIFAR-10 Batch 1:  Loss:     0.8005 Validation Accuracy: 0.513200\n",
      "Epoch 42, CIFAR-10 Batch 1:  Loss:     0.7530 Validation Accuracy: 0.511000\n",
      "Epoch 43, CIFAR-10 Batch 1:  Loss:     0.6783 Validation Accuracy: 0.520000\n",
      "Epoch 44, CIFAR-10 Batch 1:  Loss:     0.6851 Validation Accuracy: 0.522600\n",
      "Epoch 45, CIFAR-10 Batch 1:  Loss:     0.6564 Validation Accuracy: 0.526200\n",
      "Epoch 46, CIFAR-10 Batch 1:  Loss:     0.6134 Validation Accuracy: 0.528000\n",
      "Epoch 47, CIFAR-10 Batch 1:  Loss:     0.5871 Validation Accuracy: 0.522000\n",
      "Epoch 48, CIFAR-10 Batch 1:  Loss:     0.5731 Validation Accuracy: 0.520000\n",
      "Epoch 49, CIFAR-10 Batch 1:  Loss:     0.5629 Validation Accuracy: 0.522200\n",
      "Epoch 50, CIFAR-10 Batch 1:  Loss:     0.5568 Validation Accuracy: 0.524000\n"
     ]
    }
   ],
   "source": [
    "\"\"\"\n",
    "DON'T MODIFY ANYTHING IN THIS CELL\n",
    "\"\"\"\n",
    "print('Checking the Training on a Single Batch...')\n",
    "with tf.Session() as sess:\n",
    "    # Initializing the variables\n",
    "    sess.run(tf.global_variables_initializer())\n",
    "    \n",
    "    # Training cycle\n",
    "    for epoch in range(epochs):\n",
    "        batch_i = 1\n",
    "        for batch_features, batch_labels in helper.load_preprocess_training_batch(batch_i, batch_size):\n",
    "            train_neural_network(sess, optimizer, keep_probability, batch_features, batch_labels)\n",
    "        print('Epoch {:>2}, CIFAR-10 Batch {}:  '.format(epoch + 1, batch_i), end='')\n",
    "        print_stats(sess, batch_features, batch_labels, cost, accuracy)"
   ]
  },
  {
   "cell_type": "markdown",
   "metadata": {
    "deletable": true,
    "editable": true
   },
   "source": [
    "### Fully Train the Model\n",
    "Now that you got a good accuracy with a single CIFAR-10 batch, try it with all five batches."
   ]
  },
  {
   "cell_type": "code",
   "execution_count": 13,
   "metadata": {
    "collapsed": false,
    "deletable": true,
    "editable": true
   },
   "outputs": [
    {
     "name": "stdout",
     "output_type": "stream",
     "text": [
      "Training...\n",
      "Epoch  1, CIFAR-10 Batch 1:  Loss:     2.1175 Validation Accuracy: 0.329000\n",
      "Epoch  1, CIFAR-10 Batch 2:  Loss:     1.8991 Validation Accuracy: 0.376200\n",
      "Epoch  1, CIFAR-10 Batch 3:  Loss:     1.7115 Validation Accuracy: 0.385000\n",
      "Epoch  1, CIFAR-10 Batch 4:  Loss:     1.7478 Validation Accuracy: 0.397400\n",
      "Epoch  1, CIFAR-10 Batch 5:  Loss:     1.7539 Validation Accuracy: 0.409000\n",
      "Epoch  2, CIFAR-10 Batch 1:  Loss:     1.7082 Validation Accuracy: 0.431800\n",
      "Epoch  2, CIFAR-10 Batch 2:  Loss:     1.6757 Validation Accuracy: 0.435800\n",
      "Epoch  2, CIFAR-10 Batch 3:  Loss:     1.5194 Validation Accuracy: 0.442600\n",
      "Epoch  2, CIFAR-10 Batch 4:  Loss:     1.5606 Validation Accuracy: 0.445400\n",
      "Epoch  2, CIFAR-10 Batch 5:  Loss:     1.6576 Validation Accuracy: 0.453800\n",
      "Epoch  3, CIFAR-10 Batch 1:  Loss:     1.7145 Validation Accuracy: 0.461200\n",
      "Epoch  3, CIFAR-10 Batch 2:  Loss:     1.5647 Validation Accuracy: 0.467200\n",
      "Epoch  3, CIFAR-10 Batch 3:  Loss:     1.4130 Validation Accuracy: 0.457800\n",
      "Epoch  3, CIFAR-10 Batch 4:  Loss:     1.4812 Validation Accuracy: 0.473800\n",
      "Epoch  3, CIFAR-10 Batch 5:  Loss:     1.6295 Validation Accuracy: 0.474400\n",
      "Epoch  4, CIFAR-10 Batch 1:  Loss:     1.6299 Validation Accuracy: 0.484600\n",
      "Epoch  4, CIFAR-10 Batch 2:  Loss:     1.4671 Validation Accuracy: 0.485200\n",
      "Epoch  4, CIFAR-10 Batch 3:  Loss:     1.3532 Validation Accuracy: 0.481800\n",
      "Epoch  4, CIFAR-10 Batch 4:  Loss:     1.3754 Validation Accuracy: 0.497600\n",
      "Epoch  4, CIFAR-10 Batch 5:  Loss:     1.6110 Validation Accuracy: 0.473600\n",
      "Epoch  5, CIFAR-10 Batch 1:  Loss:     1.6016 Validation Accuracy: 0.492000\n",
      "Epoch  5, CIFAR-10 Batch 2:  Loss:     1.3687 Validation Accuracy: 0.488000\n",
      "Epoch  5, CIFAR-10 Batch 3:  Loss:     1.2748 Validation Accuracy: 0.496800\n",
      "Epoch  5, CIFAR-10 Batch 4:  Loss:     1.3296 Validation Accuracy: 0.505600\n",
      "Epoch  5, CIFAR-10 Batch 5:  Loss:     1.4474 Validation Accuracy: 0.503200\n",
      "Epoch  6, CIFAR-10 Batch 1:  Loss:     1.5007 Validation Accuracy: 0.510400\n",
      "Epoch  6, CIFAR-10 Batch 2:  Loss:     1.3402 Validation Accuracy: 0.508800\n",
      "Epoch  6, CIFAR-10 Batch 3:  Loss:     1.2101 Validation Accuracy: 0.499600\n",
      "Epoch  6, CIFAR-10 Batch 4:  Loss:     1.3184 Validation Accuracy: 0.515000\n",
      "Epoch  6, CIFAR-10 Batch 5:  Loss:     1.4654 Validation Accuracy: 0.494800\n",
      "Epoch  7, CIFAR-10 Batch 1:  Loss:     1.4877 Validation Accuracy: 0.507600\n",
      "Epoch  7, CIFAR-10 Batch 2:  Loss:     1.2386 Validation Accuracy: 0.527200\n",
      "Epoch  7, CIFAR-10 Batch 3:  Loss:     1.1325 Validation Accuracy: 0.518600\n",
      "Epoch  7, CIFAR-10 Batch 4:  Loss:     1.2371 Validation Accuracy: 0.533400\n",
      "Epoch  7, CIFAR-10 Batch 5:  Loss:     1.3558 Validation Accuracy: 0.511400\n",
      "Epoch  8, CIFAR-10 Batch 1:  Loss:     1.4370 Validation Accuracy: 0.527200\n",
      "Epoch  8, CIFAR-10 Batch 2:  Loss:     1.1776 Validation Accuracy: 0.532000\n",
      "Epoch  8, CIFAR-10 Batch 3:  Loss:     1.0943 Validation Accuracy: 0.523200\n",
      "Epoch  8, CIFAR-10 Batch 4:  Loss:     1.2250 Validation Accuracy: 0.546800\n",
      "Epoch  8, CIFAR-10 Batch 5:  Loss:     1.2745 Validation Accuracy: 0.543800\n",
      "Epoch  9, CIFAR-10 Batch 1:  Loss:     1.3654 Validation Accuracy: 0.539400\n",
      "Epoch  9, CIFAR-10 Batch 2:  Loss:     1.1296 Validation Accuracy: 0.546400\n",
      "Epoch  9, CIFAR-10 Batch 3:  Loss:     1.0153 Validation Accuracy: 0.539200\n",
      "Epoch  9, CIFAR-10 Batch 4:  Loss:     1.1432 Validation Accuracy: 0.549200\n",
      "Epoch  9, CIFAR-10 Batch 5:  Loss:     1.2539 Validation Accuracy: 0.548400\n",
      "Epoch 10, CIFAR-10 Batch 1:  Loss:     1.3196 Validation Accuracy: 0.536800\n",
      "Epoch 10, CIFAR-10 Batch 2:  Loss:     1.0505 Validation Accuracy: 0.546800\n",
      "Epoch 10, CIFAR-10 Batch 3:  Loss:     1.0028 Validation Accuracy: 0.555200\n",
      "Epoch 10, CIFAR-10 Batch 4:  Loss:     1.1456 Validation Accuracy: 0.557600\n",
      "Epoch 10, CIFAR-10 Batch 5:  Loss:     1.2484 Validation Accuracy: 0.556200\n",
      "Epoch 11, CIFAR-10 Batch 1:  Loss:     1.2934 Validation Accuracy: 0.545000\n",
      "Epoch 11, CIFAR-10 Batch 2:  Loss:     1.0465 Validation Accuracy: 0.547600\n",
      "Epoch 11, CIFAR-10 Batch 3:  Loss:     0.9502 Validation Accuracy: 0.541000\n",
      "Epoch 11, CIFAR-10 Batch 4:  Loss:     1.0691 Validation Accuracy: 0.565200\n",
      "Epoch 11, CIFAR-10 Batch 5:  Loss:     1.2022 Validation Accuracy: 0.556600\n",
      "Epoch 12, CIFAR-10 Batch 1:  Loss:     1.2126 Validation Accuracy: 0.562400\n",
      "Epoch 12, CIFAR-10 Batch 2:  Loss:     0.9926 Validation Accuracy: 0.567000\n",
      "Epoch 12, CIFAR-10 Batch 3:  Loss:     0.9136 Validation Accuracy: 0.554400\n",
      "Epoch 12, CIFAR-10 Batch 4:  Loss:     1.0531 Validation Accuracy: 0.561000\n",
      "Epoch 12, CIFAR-10 Batch 5:  Loss:     1.1975 Validation Accuracy: 0.560600\n",
      "Epoch 13, CIFAR-10 Batch 1:  Loss:     1.2032 Validation Accuracy: 0.568200\n",
      "Epoch 13, CIFAR-10 Batch 2:  Loss:     0.9793 Validation Accuracy: 0.567600\n",
      "Epoch 13, CIFAR-10 Batch 3:  Loss:     0.8613 Validation Accuracy: 0.561600\n",
      "Epoch 13, CIFAR-10 Batch 4:  Loss:     0.9725 Validation Accuracy: 0.575400\n",
      "Epoch 13, CIFAR-10 Batch 5:  Loss:     1.2112 Validation Accuracy: 0.553200\n",
      "Epoch 14, CIFAR-10 Batch 1:  Loss:     1.1214 Validation Accuracy: 0.569200\n",
      "Epoch 14, CIFAR-10 Batch 2:  Loss:     0.9555 Validation Accuracy: 0.566800\n",
      "Epoch 14, CIFAR-10 Batch 3:  Loss:     0.8038 Validation Accuracy: 0.563200\n",
      "Epoch 14, CIFAR-10 Batch 4:  Loss:     0.9083 Validation Accuracy: 0.581800\n",
      "Epoch 14, CIFAR-10 Batch 5:  Loss:     1.0954 Validation Accuracy: 0.577400\n",
      "Epoch 15, CIFAR-10 Batch 1:  Loss:     1.0564 Validation Accuracy: 0.581000\n",
      "Epoch 15, CIFAR-10 Batch 2:  Loss:     0.9257 Validation Accuracy: 0.579600\n",
      "Epoch 15, CIFAR-10 Batch 3:  Loss:     0.7522 Validation Accuracy: 0.566200\n",
      "Epoch 15, CIFAR-10 Batch 4:  Loss:     0.9339 Validation Accuracy: 0.587000\n",
      "Epoch 15, CIFAR-10 Batch 5:  Loss:     1.1002 Validation Accuracy: 0.573600\n",
      "Epoch 16, CIFAR-10 Batch 1:  Loss:     1.0406 Validation Accuracy: 0.578800\n",
      "Epoch 16, CIFAR-10 Batch 2:  Loss:     0.8483 Validation Accuracy: 0.582800\n",
      "Epoch 16, CIFAR-10 Batch 3:  Loss:     0.7737 Validation Accuracy: 0.572200\n",
      "Epoch 16, CIFAR-10 Batch 4:  Loss:     0.8638 Validation Accuracy: 0.585200\n",
      "Epoch 16, CIFAR-10 Batch 5:  Loss:     1.0675 Validation Accuracy: 0.577600\n",
      "Epoch 17, CIFAR-10 Batch 1:  Loss:     1.0601 Validation Accuracy: 0.581800\n",
      "Epoch 17, CIFAR-10 Batch 2:  Loss:     0.8970 Validation Accuracy: 0.582200\n",
      "Epoch 17, CIFAR-10 Batch 3:  Loss:     0.7707 Validation Accuracy: 0.567600\n",
      "Epoch 17, CIFAR-10 Batch 4:  Loss:     0.9283 Validation Accuracy: 0.584200\n",
      "Epoch 17, CIFAR-10 Batch 5:  Loss:     1.0447 Validation Accuracy: 0.581400\n",
      "Epoch 18, CIFAR-10 Batch 1:  Loss:     0.9662 Validation Accuracy: 0.584200\n",
      "Epoch 18, CIFAR-10 Batch 2:  Loss:     0.8277 Validation Accuracy: 0.587000\n",
      "Epoch 18, CIFAR-10 Batch 3:  Loss:     0.6684 Validation Accuracy: 0.575600\n",
      "Epoch 18, CIFAR-10 Batch 4:  Loss:     0.8875 Validation Accuracy: 0.596800\n",
      "Epoch 18, CIFAR-10 Batch 5:  Loss:     1.0142 Validation Accuracy: 0.582800\n",
      "Epoch 19, CIFAR-10 Batch 1:  Loss:     0.9104 Validation Accuracy: 0.594600\n",
      "Epoch 19, CIFAR-10 Batch 2:  Loss:     0.8176 Validation Accuracy: 0.592000\n",
      "Epoch 19, CIFAR-10 Batch 3:  Loss:     0.7060 Validation Accuracy: 0.573400\n",
      "Epoch 19, CIFAR-10 Batch 4:  Loss:     0.8385 Validation Accuracy: 0.577400\n",
      "Epoch 19, CIFAR-10 Batch 5:  Loss:     0.9572 Validation Accuracy: 0.597400\n",
      "Epoch 20, CIFAR-10 Batch 1:  Loss:     0.9413 Validation Accuracy: 0.597800\n",
      "Epoch 20, CIFAR-10 Batch 2:  Loss:     0.7791 Validation Accuracy: 0.592600\n",
      "Epoch 20, CIFAR-10 Batch 3:  Loss:     0.7138 Validation Accuracy: 0.596000\n",
      "Epoch 20, CIFAR-10 Batch 4:  Loss:     0.8477 Validation Accuracy: 0.595200\n",
      "Epoch 20, CIFAR-10 Batch 5:  Loss:     0.9554 Validation Accuracy: 0.590200\n",
      "Epoch 21, CIFAR-10 Batch 1:  Loss:     0.9772 Validation Accuracy: 0.605000\n",
      "Epoch 21, CIFAR-10 Batch 2:  Loss:     0.7313 Validation Accuracy: 0.600000\n",
      "Epoch 21, CIFAR-10 Batch 3:  Loss:     0.6747 Validation Accuracy: 0.589000\n",
      "Epoch 21, CIFAR-10 Batch 4:  Loss:     0.8176 Validation Accuracy: 0.604000\n",
      "Epoch 21, CIFAR-10 Batch 5:  Loss:     0.9411 Validation Accuracy: 0.589000\n",
      "Epoch 22, CIFAR-10 Batch 1:  Loss:     0.9363 Validation Accuracy: 0.596000\n",
      "Epoch 22, CIFAR-10 Batch 2:  Loss:     0.7562 Validation Accuracy: 0.598200\n",
      "Epoch 22, CIFAR-10 Batch 3:  Loss:     0.6406 Validation Accuracy: 0.590800\n",
      "Epoch 22, CIFAR-10 Batch 4:  Loss:     0.7580 Validation Accuracy: 0.598600\n",
      "Epoch 22, CIFAR-10 Batch 5:  Loss:     0.8998 Validation Accuracy: 0.602600\n",
      "Epoch 23, CIFAR-10 Batch 1:  Loss:     0.8837 Validation Accuracy: 0.602000\n",
      "Epoch 23, CIFAR-10 Batch 2:  Loss:     0.6511 Validation Accuracy: 0.591400\n",
      "Epoch 23, CIFAR-10 Batch 3:  Loss:     0.6278 Validation Accuracy: 0.603800\n",
      "Epoch 23, CIFAR-10 Batch 4:  Loss:     0.7196 Validation Accuracy: 0.606200\n",
      "Epoch 23, CIFAR-10 Batch 5:  Loss:     0.9068 Validation Accuracy: 0.584400\n",
      "Epoch 24, CIFAR-10 Batch 1:  Loss:     0.9150 Validation Accuracy: 0.601600\n",
      "Epoch 24, CIFAR-10 Batch 2:  Loss:     0.7208 Validation Accuracy: 0.598800\n",
      "Epoch 24, CIFAR-10 Batch 3:  Loss:     0.5935 Validation Accuracy: 0.601200\n",
      "Epoch 24, CIFAR-10 Batch 4:  Loss:     0.7396 Validation Accuracy: 0.616400\n",
      "Epoch 24, CIFAR-10 Batch 5:  Loss:     0.8255 Validation Accuracy: 0.598400\n",
      "Epoch 25, CIFAR-10 Batch 1:  Loss:     0.8284 Validation Accuracy: 0.616800\n",
      "Epoch 25, CIFAR-10 Batch 2:  Loss:     0.6954 Validation Accuracy: 0.610600\n",
      "Epoch 25, CIFAR-10 Batch 3:  Loss:     0.5909 Validation Accuracy: 0.614000\n",
      "Epoch 25, CIFAR-10 Batch 4:  Loss:     0.7122 Validation Accuracy: 0.605800\n",
      "Epoch 25, CIFAR-10 Batch 5:  Loss:     0.7721 Validation Accuracy: 0.604200\n",
      "Epoch 26, CIFAR-10 Batch 1:  Loss:     0.8362 Validation Accuracy: 0.610800\n",
      "Epoch 26, CIFAR-10 Batch 2:  Loss:     0.6777 Validation Accuracy: 0.611800\n",
      "Epoch 26, CIFAR-10 Batch 3:  Loss:     0.5316 Validation Accuracy: 0.593800\n",
      "Epoch 26, CIFAR-10 Batch 4:  Loss:     0.6656 Validation Accuracy: 0.612000\n",
      "Epoch 26, CIFAR-10 Batch 5:  Loss:     0.8273 Validation Accuracy: 0.605400\n",
      "Epoch 27, CIFAR-10 Batch 1:  Loss:     0.8220 Validation Accuracy: 0.612200\n",
      "Epoch 27, CIFAR-10 Batch 2:  Loss:     0.6230 Validation Accuracy: 0.614000\n",
      "Epoch 27, CIFAR-10 Batch 3:  Loss:     0.5887 Validation Accuracy: 0.611000\n",
      "Epoch 27, CIFAR-10 Batch 4:  Loss:     0.6783 Validation Accuracy: 0.610400\n",
      "Epoch 27, CIFAR-10 Batch 5:  Loss:     0.7305 Validation Accuracy: 0.609800\n",
      "Epoch 28, CIFAR-10 Batch 1:  Loss:     0.8177 Validation Accuracy: 0.601000\n",
      "Epoch 28, CIFAR-10 Batch 2:  Loss:     0.5828 Validation Accuracy: 0.606200\n",
      "Epoch 28, CIFAR-10 Batch 3:  Loss:     0.5486 Validation Accuracy: 0.609600\n",
      "Epoch 28, CIFAR-10 Batch 4:  Loss:     0.7062 Validation Accuracy: 0.604000\n",
      "Epoch 28, CIFAR-10 Batch 5:  Loss:     0.7147 Validation Accuracy: 0.620200\n",
      "Epoch 29, CIFAR-10 Batch 1:  Loss:     0.7263 Validation Accuracy: 0.617400\n",
      "Epoch 29, CIFAR-10 Batch 2:  Loss:     0.6122 Validation Accuracy: 0.621800\n",
      "Epoch 29, CIFAR-10 Batch 3:  Loss:     0.5174 Validation Accuracy: 0.611000\n",
      "Epoch 29, CIFAR-10 Batch 4:  Loss:     0.6812 Validation Accuracy: 0.606400\n",
      "Epoch 29, CIFAR-10 Batch 5:  Loss:     0.7333 Validation Accuracy: 0.614400\n",
      "Epoch 30, CIFAR-10 Batch 1:  Loss:     0.7866 Validation Accuracy: 0.620800\n",
      "Epoch 30, CIFAR-10 Batch 2:  Loss:     0.5943 Validation Accuracy: 0.619000\n",
      "Epoch 30, CIFAR-10 Batch 3:  Loss:     0.4886 Validation Accuracy: 0.608600\n",
      "Epoch 30, CIFAR-10 Batch 4:  Loss:     0.6397 Validation Accuracy: 0.620800\n",
      "Epoch 30, CIFAR-10 Batch 5:  Loss:     0.7659 Validation Accuracy: 0.615400\n",
      "Epoch 31, CIFAR-10 Batch 1:  Loss:     0.8296 Validation Accuracy: 0.617000\n",
      "Epoch 31, CIFAR-10 Batch 2:  Loss:     0.5687 Validation Accuracy: 0.617400\n",
      "Epoch 31, CIFAR-10 Batch 3:  Loss:     0.5339 Validation Accuracy: 0.609400\n",
      "Epoch 31, CIFAR-10 Batch 4:  Loss:     0.6320 Validation Accuracy: 0.619400\n",
      "Epoch 31, CIFAR-10 Batch 5:  Loss:     0.7763 Validation Accuracy: 0.611200\n",
      "Epoch 32, CIFAR-10 Batch 1:  Loss:     0.8057 Validation Accuracy: 0.613200\n",
      "Epoch 32, CIFAR-10 Batch 2:  Loss:     0.5738 Validation Accuracy: 0.610200\n",
      "Epoch 32, CIFAR-10 Batch 3:  Loss:     0.5482 Validation Accuracy: 0.611000\n",
      "Epoch 32, CIFAR-10 Batch 4:  Loss:     0.6313 Validation Accuracy: 0.612600\n",
      "Epoch 32, CIFAR-10 Batch 5:  Loss:     0.7357 Validation Accuracy: 0.613800\n",
      "Epoch 33, CIFAR-10 Batch 1:  Loss:     0.7994 Validation Accuracy: 0.623800\n",
      "Epoch 33, CIFAR-10 Batch 2:  Loss:     0.5207 Validation Accuracy: 0.614200\n",
      "Epoch 33, CIFAR-10 Batch 3:  Loss:     0.5187 Validation Accuracy: 0.617400\n",
      "Epoch 33, CIFAR-10 Batch 4:  Loss:     0.5895 Validation Accuracy: 0.624000\n",
      "Epoch 33, CIFAR-10 Batch 5:  Loss:     0.7005 Validation Accuracy: 0.621800\n",
      "Epoch 34, CIFAR-10 Batch 1:  Loss:     0.6936 Validation Accuracy: 0.621400\n",
      "Epoch 34, CIFAR-10 Batch 2:  Loss:     0.5663 Validation Accuracy: 0.622400\n",
      "Epoch 34, CIFAR-10 Batch 3:  Loss:     0.5766 Validation Accuracy: 0.618400\n",
      "Epoch 34, CIFAR-10 Batch 4:  Loss:     0.5898 Validation Accuracy: 0.624600\n",
      "Epoch 34, CIFAR-10 Batch 5:  Loss:     0.6633 Validation Accuracy: 0.622800\n",
      "Epoch 35, CIFAR-10 Batch 1:  Loss:     0.7146 Validation Accuracy: 0.622200\n",
      "Epoch 35, CIFAR-10 Batch 2:  Loss:     0.4749 Validation Accuracy: 0.620400\n",
      "Epoch 35, CIFAR-10 Batch 3:  Loss:     0.5547 Validation Accuracy: 0.613000\n",
      "Epoch 35, CIFAR-10 Batch 4:  Loss:     0.5703 Validation Accuracy: 0.621200\n",
      "Epoch 35, CIFAR-10 Batch 5:  Loss:     0.7062 Validation Accuracy: 0.623600\n",
      "Epoch 36, CIFAR-10 Batch 1:  Loss:     0.6934 Validation Accuracy: 0.628600\n",
      "Epoch 36, CIFAR-10 Batch 2:  Loss:     0.4643 Validation Accuracy: 0.621400\n",
      "Epoch 36, CIFAR-10 Batch 3:  Loss:     0.4961 Validation Accuracy: 0.625200\n",
      "Epoch 36, CIFAR-10 Batch 4:  Loss:     0.5856 Validation Accuracy: 0.621600\n",
      "Epoch 36, CIFAR-10 Batch 5:  Loss:     0.6455 Validation Accuracy: 0.621600\n",
      "Epoch 37, CIFAR-10 Batch 1:  Loss:     0.7277 Validation Accuracy: 0.625400\n",
      "Epoch 37, CIFAR-10 Batch 2:  Loss:     0.4964 Validation Accuracy: 0.627600\n",
      "Epoch 37, CIFAR-10 Batch 3:  Loss:     0.4747 Validation Accuracy: 0.619400\n",
      "Epoch 37, CIFAR-10 Batch 4:  Loss:     0.5720 Validation Accuracy: 0.613400\n",
      "Epoch 37, CIFAR-10 Batch 5:  Loss:     0.7291 Validation Accuracy: 0.616400\n",
      "Epoch 38, CIFAR-10 Batch 1:  Loss:     0.7134 Validation Accuracy: 0.628200\n",
      "Epoch 38, CIFAR-10 Batch 2:  Loss:     0.4650 Validation Accuracy: 0.620200\n",
      "Epoch 38, CIFAR-10 Batch 3:  Loss:     0.4701 Validation Accuracy: 0.623600\n",
      "Epoch 38, CIFAR-10 Batch 4:  Loss:     0.5637 Validation Accuracy: 0.616200\n",
      "Epoch 38, CIFAR-10 Batch 5:  Loss:     0.5968 Validation Accuracy: 0.633600\n",
      "Epoch 39, CIFAR-10 Batch 1:  Loss:     0.6718 Validation Accuracy: 0.627000\n",
      "Epoch 39, CIFAR-10 Batch 2:  Loss:     0.4742 Validation Accuracy: 0.621000\n",
      "Epoch 39, CIFAR-10 Batch 3:  Loss:     0.4926 Validation Accuracy: 0.615200\n",
      "Epoch 39, CIFAR-10 Batch 4:  Loss:     0.6173 Validation Accuracy: 0.628800\n",
      "Epoch 39, CIFAR-10 Batch 5:  Loss:     0.6864 Validation Accuracy: 0.621200\n",
      "Epoch 40, CIFAR-10 Batch 1:  Loss:     0.7256 Validation Accuracy: 0.616400\n",
      "Epoch 40, CIFAR-10 Batch 2:  Loss:     0.4867 Validation Accuracy: 0.618800\n",
      "Epoch 40, CIFAR-10 Batch 3:  Loss:     0.4993 Validation Accuracy: 0.626200\n",
      "Epoch 40, CIFAR-10 Batch 4:  Loss:     0.5588 Validation Accuracy: 0.617200\n",
      "Epoch 40, CIFAR-10 Batch 5:  Loss:     0.5793 Validation Accuracy: 0.630800\n",
      "Epoch 41, CIFAR-10 Batch 1:  Loss:     0.6534 Validation Accuracy: 0.620000\n",
      "Epoch 41, CIFAR-10 Batch 2:  Loss:     0.5026 Validation Accuracy: 0.625800\n",
      "Epoch 41, CIFAR-10 Batch 3:  Loss:     0.4487 Validation Accuracy: 0.621400\n",
      "Epoch 41, CIFAR-10 Batch 4:  Loss:     0.5127 Validation Accuracy: 0.622600\n",
      "Epoch 41, CIFAR-10 Batch 5:  Loss:     0.6309 Validation Accuracy: 0.624800\n",
      "Epoch 42, CIFAR-10 Batch 1:  Loss:     0.6670 Validation Accuracy: 0.631400\n",
      "Epoch 42, CIFAR-10 Batch 2:  Loss:     0.4817 Validation Accuracy: 0.622400\n",
      "Epoch 42, CIFAR-10 Batch 3:  Loss:     0.3801 Validation Accuracy: 0.627400\n",
      "Epoch 42, CIFAR-10 Batch 4:  Loss:     0.5348 Validation Accuracy: 0.621200\n",
      "Epoch 42, CIFAR-10 Batch 5:  Loss:     0.6042 Validation Accuracy: 0.626400\n",
      "Epoch 43, CIFAR-10 Batch 1:  Loss:     0.5830 Validation Accuracy: 0.626400\n",
      "Epoch 43, CIFAR-10 Batch 2:  Loss:     0.4205 Validation Accuracy: 0.633000\n",
      "Epoch 43, CIFAR-10 Batch 3:  Loss:     0.4212 Validation Accuracy: 0.633600\n",
      "Epoch 43, CIFAR-10 Batch 4:  Loss:     0.5118 Validation Accuracy: 0.629400\n",
      "Epoch 43, CIFAR-10 Batch 5:  Loss:     0.5187 Validation Accuracy: 0.626000\n",
      "Epoch 44, CIFAR-10 Batch 1:  Loss:     0.5950 Validation Accuracy: 0.618200\n",
      "Epoch 44, CIFAR-10 Batch 2:  Loss:     0.4570 Validation Accuracy: 0.619200\n",
      "Epoch 44, CIFAR-10 Batch 3:  Loss:     0.4324 Validation Accuracy: 0.625000\n",
      "Epoch 44, CIFAR-10 Batch 4:  Loss:     0.4654 Validation Accuracy: 0.633800\n",
      "Epoch 44, CIFAR-10 Batch 5:  Loss:     0.5833 Validation Accuracy: 0.636400\n",
      "Epoch 45, CIFAR-10 Batch 1:  Loss:     0.5721 Validation Accuracy: 0.633800\n",
      "Epoch 45, CIFAR-10 Batch 2:  Loss:     0.4933 Validation Accuracy: 0.624200\n",
      "Epoch 45, CIFAR-10 Batch 3:  Loss:     0.4098 Validation Accuracy: 0.619800\n",
      "Epoch 45, CIFAR-10 Batch 4:  Loss:     0.4343 Validation Accuracy: 0.626600\n",
      "Epoch 45, CIFAR-10 Batch 5:  Loss:     0.5459 Validation Accuracy: 0.628400\n",
      "Epoch 46, CIFAR-10 Batch 1:  Loss:     0.6474 Validation Accuracy: 0.632800\n",
      "Epoch 46, CIFAR-10 Batch 2:  Loss:     0.4185 Validation Accuracy: 0.626600\n",
      "Epoch 46, CIFAR-10 Batch 3:  Loss:     0.4463 Validation Accuracy: 0.623800\n",
      "Epoch 46, CIFAR-10 Batch 4:  Loss:     0.4886 Validation Accuracy: 0.630000\n",
      "Epoch 46, CIFAR-10 Batch 5:  Loss:     0.5054 Validation Accuracy: 0.633000\n",
      "Epoch 47, CIFAR-10 Batch 1:  Loss:     0.6446 Validation Accuracy: 0.629200\n",
      "Epoch 47, CIFAR-10 Batch 2:  Loss:     0.4550 Validation Accuracy: 0.626400\n",
      "Epoch 47, CIFAR-10 Batch 3:  Loss:     0.3825 Validation Accuracy: 0.632600\n",
      "Epoch 47, CIFAR-10 Batch 4:  Loss:     0.4774 Validation Accuracy: 0.631000\n",
      "Epoch 47, CIFAR-10 Batch 5:  Loss:     0.5643 Validation Accuracy: 0.626200\n",
      "Epoch 48, CIFAR-10 Batch 1:  Loss:     0.6240 Validation Accuracy: 0.637200\n",
      "Epoch 48, CIFAR-10 Batch 2:  Loss:     0.4003 Validation Accuracy: 0.632600\n",
      "Epoch 48, CIFAR-10 Batch 3:  Loss:     0.4318 Validation Accuracy: 0.617800\n",
      "Epoch 48, CIFAR-10 Batch 4:  Loss:     0.4346 Validation Accuracy: 0.636200\n",
      "Epoch 48, CIFAR-10 Batch 5:  Loss:     0.5086 Validation Accuracy: 0.633400\n",
      "Epoch 49, CIFAR-10 Batch 1:  Loss:     0.6074 Validation Accuracy: 0.631600\n",
      "Epoch 49, CIFAR-10 Batch 2:  Loss:     0.4282 Validation Accuracy: 0.633200\n",
      "Epoch 49, CIFAR-10 Batch 3:  Loss:     0.3961 Validation Accuracy: 0.635400\n",
      "Epoch 49, CIFAR-10 Batch 4:  Loss:     0.4615 Validation Accuracy: 0.638600\n",
      "Epoch 49, CIFAR-10 Batch 5:  Loss:     0.5210 Validation Accuracy: 0.635800\n",
      "Epoch 50, CIFAR-10 Batch 1:  Loss:     0.5741 Validation Accuracy: 0.631800\n",
      "Epoch 50, CIFAR-10 Batch 2:  Loss:     0.4280 Validation Accuracy: 0.634600\n",
      "Epoch 50, CIFAR-10 Batch 3:  Loss:     0.3845 Validation Accuracy: 0.627800\n",
      "Epoch 50, CIFAR-10 Batch 4:  Loss:     0.5324 Validation Accuracy: 0.627400\n",
      "Epoch 50, CIFAR-10 Batch 5:  Loss:     0.5193 Validation Accuracy: 0.629200\n"
     ]
    }
   ],
   "source": [
    "\"\"\"\n",
    "DON'T MODIFY ANYTHING IN THIS CELL\n",
    "\"\"\"\n",
    "save_model_path = './image_classification'\n",
    "\n",
    "print('Training...')\n",
    "with tf.Session() as sess:\n",
    "    # Initializing the variables\n",
    "    sess.run(tf.global_variables_initializer())\n",
    "    \n",
    "    # Training cycle\n",
    "    for epoch in range(epochs):\n",
    "        # Loop over all batches\n",
    "        n_batches = 5\n",
    "        for batch_i in range(1, n_batches + 1):\n",
    "            for batch_features, batch_labels in helper.load_preprocess_training_batch(batch_i, batch_size):\n",
    "                train_neural_network(sess, optimizer, keep_probability, batch_features, batch_labels)\n",
    "            print('Epoch {:>2}, CIFAR-10 Batch {}:  '.format(epoch + 1, batch_i), end='')\n",
    "            print_stats(sess, batch_features, batch_labels, cost, accuracy)\n",
    "            \n",
    "    # Save Model\n",
    "    saver = tf.train.Saver()\n",
    "    save_path = saver.save(sess, save_model_path)"
   ]
  },
  {
   "cell_type": "markdown",
   "metadata": {
    "deletable": true,
    "editable": true
   },
   "source": [
    "# Checkpoint\n",
    "The model has been saved to disk.\n",
    "## Test Model\n",
    "Test your model against the test dataset.  This will be your final accuracy. You should have an accuracy greater than 50%. If you don't, keep tweaking the model architecture and parameters."
   ]
  },
  {
   "cell_type": "code",
   "execution_count": 14,
   "metadata": {
    "collapsed": false,
    "deletable": true,
    "editable": true
   },
   "outputs": [
    {
     "name": "stdout",
     "output_type": "stream",
     "text": [
      "Testing Accuracy: 0.625692246835443\n",
      "\n"
     ]
    },
    {
     "data": {
      "image/png": "[encoded data removed]",
      "text/plain": [
       "<matplotlib.figure.Figure at 0x7f1928d92978>"
      ]
     },
     "metadata": {
      "image/png": {
       "height": 319,
       "width": 355
      }
     },
     "output_type": "display_data"
    }
   ],
   "source": [
    "\"\"\"\n",
    "DON'T MODIFY ANYTHING IN THIS CELL\n",
    "\"\"\"\n",
    "%matplotlib inline\n",
    "%config InlineBackend.figure_format = 'retina'\n",
    "\n",
    "import tensorflow as tf\n",
    "import pickle\n",
    "import helper\n",
    "import random\n",
    "\n",
    "# Set batch size if not already set\n",
    "try:\n",
    "    if batch_size:\n",
    "        pass\n",
    "except NameError:\n",
    "    batch_size = 64\n",
    "\n",
    "save_model_path = './image_classification'\n",
    "n_samples = 4\n",
    "top_n_predictions = 3\n",
    "\n",
    "def test_model():\n",
    "    \"\"\"\n",
    "    Test the saved model against the test dataset\n",
    "    \"\"\"\n",
    "\n",
    "    test_features, test_labels = pickle.load(open('preprocess_training.p', mode='rb'))\n",
    "    loaded_graph = tf.Graph()\n",
    "\n",
    "    with tf.Session(graph=loaded_graph) as sess:\n",
    "        # Load model\n",
    "        loader = tf.train.import_meta_graph(save_model_path + '.meta')\n",
    "        loader.restore(sess, save_model_path)\n",
    "\n",
    "        # Get Tensors from loaded model\n",
    "        loaded_x = loaded_graph.get_tensor_by_name('x:0')\n",
    "        loaded_y = loaded_graph.get_tensor_by_name('y:0')\n",
    "        loaded_keep_prob = loaded_graph.get_tensor_by_name('keep_prob:0')\n",
    "        loaded_logits = loaded_graph.get_tensor_by_name('logits:0')\n",
    "        loaded_acc = loaded_graph.get_tensor_by_name('accuracy:0')\n",
    "        \n",
    "        # Get accuracy in batches for memory limitations\n",
    "        test_batch_acc_total = 0\n",
    "        test_batch_count = 0\n",
    "        \n",
    "        for train_feature_batch, train_label_batch in helper.batch_features_labels(test_features, test_labels, batch_size):\n",
    "            test_batch_acc_total += sess.run(\n",
    "                loaded_acc,\n",
    "                feed_dict={loaded_x: train_feature_batch, loaded_y: train_label_batch, loaded_keep_prob: 1.0})\n",
    "            test_batch_count += 1\n",
    "\n",
    "        print('Testing Accuracy: {}\\n'.format(test_batch_acc_total/test_batch_count))\n",
    "\n",
    "        # Print Random Samples\n",
    "        random_test_features, random_test_labels = tuple(zip(*random.sample(list(zip(test_features, test_labels)), n_samples)))\n",
    "        random_test_predictions = sess.run(\n",
    "            tf.nn.top_k(tf.nn.softmax(loaded_logits), top_n_predictions),\n",
    "            feed_dict={loaded_x: random_test_features, loaded_y: random_test_labels, loaded_keep_prob: 1.0})\n",
    "        helper.display_image_predictions(random_test_features, random_test_labels, random_test_predictions)\n",
    "\n",
    "\n",
    "test_model()"
   ]
  },
  {
   "cell_type": "markdown",
   "metadata": {
    "deletable": true,
    "editable": true
   },
   "source": [
    "## Why 50-80% Accuracy?\n",
    "You might be wondering why you can't get an accuracy any higher. First things first, 50% isn't bad for a simple CNN.  Pure guessing would get you 10% accuracy. However, you might notice people are getting scores [well above 80%](http://rodrigob.github.io/are_we_there_yet/build/classification_datasets_results.html#43494641522d3130).  That's because we haven't taught you all there is to know about neural networks. We still need to cover a few more techniques.\n",
    "## Submitting This Project\n",
    "When submitting this project, make sure to run all the cells before saving the notebook.  Save the notebook file as \"dlnd_image_classification.ipynb\" and save it as a HTML file under \"File\" -> \"Download as\".  Include the \"helper.py\" and \"problem_unittests.py\" files in your submission."
   ]
  }
 ],
 "metadata": {
  "kernelspec": {
   "display_name": "Python 3",
   "language": "python",
   "name": "python3"
  },
  "language_info": {
   "codemirror_mode": {
    "name": "ipython",
    "version": 3
   },
   "file_extension": ".py",
   "mimetype": "text/x-python",
   "name": "python",
   "nbconvert_exporter": "python",
   "pygments_lexer": "ipython3",
   "version": "3.5.2"
  },
  "widgets": {
   "state": {},
   "version": "1.1.2"
  }
 },
 "nbformat": 4,
 "nbformat_minor": 0
}
