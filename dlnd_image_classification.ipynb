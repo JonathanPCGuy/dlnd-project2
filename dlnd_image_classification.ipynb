{
 "cells": [
  {
   "cell_type": "markdown",
   "metadata": {
    "collapsed": true,
    "deletable": true,
    "editable": true
   },
   "source": [
    "# Image Classification\n",
    "In this project, you'll classify images from the [CIFAR-10 dataset](https://www.cs.toronto.edu/~kriz/cifar.html).  The dataset consists of airplanes, dogs, cats, and other objects. You'll preprocess the images, then train a convolutional neural network on all the samples. The images need to be normalized and the labels need to be one-hot encoded.  You'll get to apply what you learned and build a convolutional, max pooling, dropout, and fully connected layers.  At the end, you'll get to see your neural network's predictions on the sample images.\n",
    "## Get the Data\n",
    "Run the following cell to download the [CIFAR-10 dataset for python](https://www.cs.toronto.edu/~kriz/cifar-10-python.tar.gz)."
   ]
  },
  {
   "cell_type": "code",
   "execution_count": 2,
   "metadata": {
    "collapsed": false,
    "deletable": true,
    "editable": true
   },
   "outputs": [
    {
     "name": "stdout",
     "output_type": "stream",
     "text": [
      "All files found!\n"
     ]
    }
   ],
   "source": [
    "\"\"\"\n",
    "DON'T MODIFY ANYTHING IN THIS CELL THAT IS BELOW THIS LINE\n",
    "\"\"\"\n",
    "from urllib.request import urlretrieve\n",
    "from os.path import isfile, isdir\n",
    "from tqdm import tqdm\n",
    "import problem_unittests as tests\n",
    "import tarfile\n",
    "\n",
    "cifar10_dataset_folder_path = 'cifar-10-batches-py'\n",
    "\n",
    "class DLProgress(tqdm):\n",
    "    last_block = 0\n",
    "\n",
    "    def hook(self, block_num=1, block_size=1, total_size=None):\n",
    "        self.total = total_size\n",
    "        self.update((block_num - self.last_block) * block_size)\n",
    "        self.last_block = block_num\n",
    "\n",
    "if not isfile('cifar-10-python.tar.gz'):\n",
    "    with DLProgress(unit='B', unit_scale=True, miniters=1, desc='CIFAR-10 Dataset') as pbar:\n",
    "        urlretrieve(\n",
    "            'https://www.cs.toronto.edu/~kriz/cifar-10-python.tar.gz',\n",
    "            'cifar-10-python.tar.gz',\n",
    "            pbar.hook)\n",
    "\n",
    "if not isdir(cifar10_dataset_folder_path):\n",
    "    with tarfile.open('cifar-10-python.tar.gz') as tar:\n",
    "        tar.extractall()\n",
    "        tar.close()\n",
    "\n",
    "\n",
    "tests.test_folder_path(cifar10_dataset_folder_path)"
   ]
  },
  {
   "cell_type": "markdown",
   "metadata": {
    "deletable": true,
    "editable": true
   },
   "source": [
    "## Explore the Data\n",
    "The dataset is broken into batches to prevent your machine from running out of memory.  The CIFAR-10 dataset consists of 5 batches, named `data_batch_1`, `data_batch_2`, etc.. Each batch contains the labels and images that are one of the following:\n",
    "* airplane\n",
    "* automobile\n",
    "* bird\n",
    "* cat\n",
    "* deer\n",
    "* dog\n",
    "* frog\n",
    "* horse\n",
    "* ship\n",
    "* truck\n",
    "\n",
    "Understanding a dataset is part of making predictions on the data.  Play around with the code cell below by changing the `batch_id` and `sample_id`. The `batch_id` is the id for a batch (1-5). The `sample_id` is the id for a image and label pair in the batch.\n",
    "\n",
    "Ask yourself \"What are all possible labels?\", \"What is the range of values for the image data?\", \"Are the labels in order or random?\".  Answers to questions like these will help you preprocess the data and end up with better predictions."
   ]
  },
  {
   "cell_type": "code",
   "execution_count": 3,
   "metadata": {
    "collapsed": false,
    "deletable": true,
    "editable": true
   },
   "outputs": [
    {
     "name": "stdout",
     "output_type": "stream",
     "text": [
      "\n",
      "Stats of batch 1:\n",
      "Samples: 10000\n",
      "Label Counts: {0: 1005, 1: 974, 2: 1032, 3: 1016, 4: 999, 5: 937, 6: 1030, 7: 1001, 8: 1025, 9: 981}\n",
      "First 20 Labels: [6, 9, 9, 4, 1, 1, 2, 7, 8, 3, 4, 7, 7, 2, 9, 9, 9, 3, 2, 6]\n",
      "\n",
      "Example of Image 10:\n",
      "Image - Min Value: 24 Max Value: 130\n",
      "Image - Shape: (32, 32, 3)\n",
      "Label - Label Id: 4 Name: deer\n"
     ]
    },
    {
     "data": {
      "image/png": "[encoded data removed]",
      "text/plain": [
       "<matplotlib.figure.Figure at 0x7f2bc8a2ab38>"
      ]
     },
     "metadata": {
      "image/png": {
       "height": 250,
       "width": 253
      }
     },
     "output_type": "display_data"
    }
   ],
   "source": [
    "%matplotlib inline\n",
    "%config InlineBackend.figure_format = 'retina'\n",
    "\n",
    "import helper\n",
    "import numpy as np\n",
    "\n",
    "# Explore the dataset\n",
    "batch_id = 1\n",
    "sample_id = 10\n",
    "helper.display_stats(cifar10_dataset_folder_path, batch_id, sample_id)"
   ]
  },
  {
   "cell_type": "markdown",
   "metadata": {
    "deletable": true,
    "editable": true
   },
   "source": [
    "## Implement Preprocess Functions\n",
    "### Normalize\n",
    "In the cell below, implement the `normalize` function to take in image data, `x`, and return it as a normalized Numpy array. The values should be in the range of 0 to 1, inclusive.  The return object should be the same shape as `x`."
   ]
  },
  {
   "cell_type": "code",
   "execution_count": 3,
   "metadata": {
    "collapsed": false,
    "deletable": true,
    "editable": true
   },
   "outputs": [
    {
     "name": "stdout",
     "output_type": "stream",
     "text": [
      "Tests Passed\n"
     ]
    }
   ],
   "source": [
    "def normalize(x):\n",
    "    \"\"\"\n",
    "    Normalize a list of sample image data in the range of 0 to 1\n",
    "    : x: List of image data.  The image shape is (32, 32, 3)\n",
    "    : return: Numpy array of normalize data\n",
    "    \"\"\"\n",
    "    # TODO: Implement Function\n",
    "    return (x) / (255.0 - 0.0)\n",
    "\n",
    "\n",
    "\"\"\"\n",
    "DON'T MODIFY ANYTHING IN THIS CELL THAT IS BELOW THIS LINE\n",
    "\"\"\"\n",
    "tests.test_normalize(normalize)"
   ]
  },
  {
   "cell_type": "markdown",
   "metadata": {
    "deletable": true,
    "editable": true
   },
   "source": [
    "### One-hot encode\n",
    "Just like the previous code cell, you'll be implementing a function for preprocessing.  This time, you'll implement the `one_hot_encode` function. The input, `x`, are a list of labels.  Implement the function to return the list of labels as One-Hot encoded Numpy array.  The possible values for labels are 0 to 9. The one-hot encoding function should return the same encoding for each value between each call to `one_hot_encode`.  Make sure to save the map of encodings outside the function.\n",
    "\n",
    "Hint: Don't reinvent the wheel."
   ]
  },
  {
   "cell_type": "code",
   "execution_count": 4,
   "metadata": {
    "collapsed": false,
    "deletable": true,
    "editable": true
   },
   "outputs": [
    {
     "name": "stdout",
     "output_type": "stream",
     "text": [
      "Tests Passed\n"
     ]
    }
   ],
   "source": [
    "from sklearn import preprocessing\n",
    "\n",
    "lb = None\n",
    "\n",
    "def one_hot_encode(x):\n",
    "    \"\"\"\n",
    "    One hot encode a list of sample labels. Return a one-hot encoded vector for each label.\n",
    "    : x: List of sample Labels\n",
    "    : return: Numpy array of one-hot encoded labels\n",
    "    \"\"\"\n",
    "    # TODO: Implement Function\n",
    "    global lb\n",
    "    if lb == None:\n",
    "        lb = preprocessing.LabelBinarizer()\n",
    "        lb.fit(x)\n",
    "    return lb.transform(x)\n",
    "\n",
    "\n",
    "\"\"\"\n",
    "DON'T MODIFY ANYTHING IN THIS CELL THAT IS BELOW THIS LINE\n",
    "\"\"\"\n",
    "tests.test_one_hot_encode(one_hot_encode)"
   ]
  },
  {
   "cell_type": "markdown",
   "metadata": {
    "deletable": true,
    "editable": true
   },
   "source": [
    "### Randomize Data\n",
    "As you saw from exploring the data above, the order of the samples are randomized.  It doesn't hurt to randomize it again, but you don't need to for this dataset."
   ]
  },
  {
   "cell_type": "markdown",
   "metadata": {
    "deletable": true,
    "editable": true
   },
   "source": [
    "## Preprocess all the data and save it\n",
    "Running the code cell below will preprocess all the CIFAR-10 data and save it to file. The code below also uses 10% of the training data for validation."
   ]
  },
  {
   "cell_type": "code",
   "execution_count": 5,
   "metadata": {
    "collapsed": false,
    "deletable": true,
    "editable": true
   },
   "outputs": [],
   "source": [
    "\"\"\"\n",
    "DON'T MODIFY ANYTHING IN THIS CELL\n",
    "\"\"\"\n",
    "# Preprocess Training, Validation, and Testing Data\n",
    "helper.preprocess_and_save_data(cifar10_dataset_folder_path, normalize, one_hot_encode)"
   ]
  },
  {
   "cell_type": "markdown",
   "metadata": {
    "deletable": true,
    "editable": true
   },
   "source": [
    "# Check Point\n",
    "This is your first checkpoint.  If you ever decide to come back to this notebook or have to restart the notebook, you can start from here.  The preprocessed data has been saved to disk."
   ]
  },
  {
   "cell_type": "code",
   "execution_count": 4,
   "metadata": {
    "collapsed": true,
    "deletable": true,
    "editable": true
   },
   "outputs": [],
   "source": [
    "\"\"\"\n",
    "DON'T MODIFY ANYTHING IN THIS CELL\n",
    "\"\"\"\n",
    "import pickle\n",
    "import problem_unittests as tests\n",
    "import helper\n",
    "\n",
    "# Load the Preprocessed Validation data\n",
    "valid_features, valid_labels = pickle.load(open('preprocess_validation.p', mode='rb'))"
   ]
  },
  {
   "cell_type": "code",
   "execution_count": 68,
   "metadata": {
    "collapsed": false,
    "deletable": true,
    "editable": true
   },
   "outputs": [
    {
     "name": "stdout",
     "output_type": "stream",
     "text": [
      "[0 0 1 0 0 0 0 0 0 0]\n"
     ]
    }
   ],
   "source": [
    "print(valid_labels[1])"
   ]
  },
  {
   "cell_type": "markdown",
   "metadata": {
    "deletable": true,
    "editable": true
   },
   "source": [
    "## Build the network\n",
    "For the neural network, you'll build each layer into a function.  Most of the code you've seen has been outside of functions. To test your code more thoroughly, we require that you put each layer in a function.  This allows us to give you better feedback and test for simple mistakes using our unittests before you submit your project.\n",
    "\n",
    ">**Note:** If you're finding it hard to dedicate enough time for this course each week, we've provided a small shortcut to this part of the project. In the next couple of problems, you'll have the option to use classes from the [TensorFlow Layers](https://www.tensorflow.org/api_docs/python/tf/layers) or [TensorFlow Layers (contrib)](https://www.tensorflow.org/api_guides/python/contrib.layers) packages to build each layer, except the layers you build in the \"Convolutional and Max Pooling Layer\" section.  TF Layers is similar to Keras's and TFLearn's abstraction to layers, so it's easy to pickup.\n",
    "\n",
    ">However, if you would like to get the most out of this course, try to solve all the problems _without_ using anything from the TF Layers packages. You **can** still use classes from other packages that happen to have the same name as ones you find in TF Layers! For example, instead of using the TF Layers version of the `conv2d` class, [tf.layers.conv2d](https://www.tensorflow.org/api_docs/python/tf/layers/conv2d), you would want to use the TF Neural Network version of `conv2d`, [tf.nn.conv2d](https://www.tensorflow.org/api_docs/python/tf/nn/conv2d). \n",
    "\n",
    "Let's begin!\n",
    "\n",
    "### Input\n",
    "The neural network needs to read the image data, one-hot encoded labels, and dropout keep probability. Implement the following functions\n",
    "* Implement `neural_net_image_input`\n",
    " * Return a [TF Placeholder](https://www.tensorflow.org/api_docs/python/tf/placeholder)\n",
    " * Set the shape using `image_shape` with batch size set to `None`.\n",
    " * Name the TensorFlow placeholder \"x\" using the TensorFlow `name` parameter in the [TF Placeholder](https://www.tensorflow.org/api_docs/python/tf/placeholder).\n",
    "* Implement `neural_net_label_input`\n",
    " * Return a [TF Placeholder](https://www.tensorflow.org/api_docs/python/tf/placeholder)\n",
    " * Set the shape using `n_classes` with batch size set to `None`.\n",
    " * Name the TensorFlow placeholder \"y\" using the TensorFlow `name` parameter in the [TF Placeholder](https://www.tensorflow.org/api_docs/python/tf/placeholder).\n",
    "* Implement `neural_net_keep_prob_input`\n",
    " * Return a [TF Placeholder](https://www.tensorflow.org/api_docs/python/tf/placeholder) for dropout keep probability.\n",
    " * Name the TensorFlow placeholder \"keep_prob\" using the TensorFlow `name` parameter in the [TF Placeholder](https://www.tensorflow.org/api_docs/python/tf/placeholder).\n",
    "\n",
    "These names will be used at the end of the project to load your saved model.\n",
    "\n",
    "Note: `None` for shapes in TensorFlow allow for a dynamic size."
   ]
  },
  {
   "cell_type": "code",
   "execution_count": 5,
   "metadata": {
    "collapsed": false,
    "deletable": true,
    "editable": true
   },
   "outputs": [
    {
     "name": "stdout",
     "output_type": "stream",
     "text": [
      "Image Input Tests Passed.\n",
      "Label Input Tests Passed.\n",
      "Keep Prob Tests Passed.\n"
     ]
    }
   ],
   "source": [
    "import tensorflow as tf\n",
    "import numpy as np\n",
    "\n",
    "def neural_net_image_input(image_shape):\n",
    "    \"\"\"\n",
    "    Return a Tensor for a batch of image input\n",
    "    : image_shape: Shape of the images\n",
    "    : return: Tensor for image input.\n",
    "    \"\"\"\n",
    "    # TODO: Implement Function\n",
    "    return tf.placeholder(tf.float32, name=\"x\",shape=(None,32,32,3))\n",
    "\n",
    "\n",
    "def neural_net_label_input(n_classes):\n",
    "    \"\"\"\n",
    "    Return a Tensor for a batch of label input\n",
    "    : n_classes: Number of classes\n",
    "    : return: Tensor for label input.\n",
    "    \"\"\"\n",
    "    # TODO: Implement Function\n",
    "    return tf.placeholder(tf.float32, name=\"y\",shape=(None,10))\n",
    "\n",
    "\n",
    "def neural_net_keep_prob_input():\n",
    "    \"\"\"\n",
    "    Return a Tensor for keep probability\n",
    "    : return: Tensor for keep probability.\n",
    "    \"\"\"\n",
    "    # TODO: Implement Function\n",
    "    return tf.placeholder(tf.float32, name=\"keep_prob\")\n",
    "\n",
    "\n",
    "\"\"\"\n",
    "DON'T MODIFY ANYTHING IN THIS CELL THAT IS BELOW THIS LINE\n",
    "\"\"\"\n",
    "tf.reset_default_graph()\n",
    "tests.test_nn_image_inputs(neural_net_image_input)\n",
    "tests.test_nn_label_inputs(neural_net_label_input)\n",
    "tests.test_nn_keep_prob_inputs(neural_net_keep_prob_input)"
   ]
  },
  {
   "cell_type": "markdown",
   "metadata": {
    "deletable": true,
    "editable": true
   },
   "source": [
    "### Convolution and Max Pooling Layer\n",
    "Convolution layers have a lot of success with images. For this code cell, you should implement the function `conv2d_maxpool` to apply convolution then max pooling:\n",
    "* Create the weight and bias using `conv_ksize`, `conv_num_outputs` and the shape of `x_tensor`.\n",
    "* Apply a convolution to `x_tensor` using weight and `conv_strides`.\n",
    " * We recommend you use same padding, but you're welcome to use any padding.\n",
    "* Add bias\n",
    "* Add a nonlinear activation to the convolution.\n",
    "* Apply Max Pooling using `pool_ksize` and `pool_strides`.\n",
    " * We recommend you use same padding, but you're welcome to use any padding.\n",
    "\n",
    "**Note:** You **can't** use [TensorFlow Layers](https://www.tensorflow.org/api_docs/python/tf/layers) or [TensorFlow Layers (contrib)](https://www.tensorflow.org/api_guides/python/contrib.layers) for **this** layer, but you can still use TensorFlow's [Neural Network](https://www.tensorflow.org/api_docs/python/tf/nn) package. You may still use the shortcut option for all the **other** layers."
   ]
  },
  {
   "cell_type": "code",
   "execution_count": 69,
   "metadata": {
    "collapsed": false,
    "deletable": true,
    "editable": true
   },
   "outputs": [
    {
     "name": "stdout",
     "output_type": "stream",
     "text": [
      "Tests Passed\n"
     ]
    }
   ],
   "source": [
    "def conv2d_maxpool(x_tensor, conv_num_outputs, conv_ksize, conv_strides, pool_ksize, pool_strides):\n",
    "    \"\"\"\n",
    "    Apply convolution then max pooling to x_tensor\n",
    "    :param x_tensor: TensorFlow Tensor\n",
    "    :param conv_num_outputs: Number of outputs for the convolutional layer\n",
    "    :param conv_ksize: kernal size 2-D Tuple for the convolutional layer\n",
    "    :param conv_strides: Stride 2-D Tuple for convolution\n",
    "    :param pool_ksize: kernal size 2-D Tuple for pool\n",
    "    :param pool_strides: Stride 2-D Tuple for pool\n",
    "    : return: A tensor that represents convolution and max pooling of x_tensor\n",
    "    \"\"\"\n",
    "    # TODO: Implement Function\n",
    "    # do i do con then maxpool or can i go straight to maxpool\n",
    "    #ksize and conv_strings can give\n",
    "    input_dims = x_tensor.get_shape().as_list()\n",
    "    height= input_dims[1]\n",
    "    width = input_dims[2]\n",
    "    depth = input_dims[3]\n",
    "    #print(conv_strides) #4x4\n",
    "    \n",
    "    new_height = height - conv_ksize[0]  * conv_strides[0] + 1\n",
    "    new_width = width - conv_ksize[1]  * conv_strides[1] + 1\n",
    "    # filter size, input channels, output channels\n",
    "    \n",
    "    filter_weight = tf.Variable(tf.truncated_normal([new_height, new_width, depth, conv_num_outputs], stddev=0.1))\n",
    "    filter_bias = tf.Variable(tf.zeros(conv_num_outputs))\n",
    "    conv2d = tf.nn.conv2d(x_tensor, filter_weight, strides=[1, conv_strides[0], conv_strides[1], 1], padding = 'SAME') \n",
    "    conv2d = tf.nn.bias_add(conv2d, filter_bias)\n",
    "    conv2d = tf.nn.relu(conv2d)\n",
    "    \n",
    "    return tf.nn.max_pool(conv2d, [1, pool_ksize[0], pool_ksize[1], 1], strides=[1, pool_strides[0], pool_strides[1], 1], padding = 'SAME')\n",
    "\n",
    "\n",
    "\"\"\"\n",
    "DON'T MODIFY ANYTHING IN THIS CELL THAT IS BELOW THIS LINE\n",
    "\"\"\"\n",
    "tests.test_con_pool(conv2d_maxpool)"
   ]
  },
  {
   "cell_type": "markdown",
   "metadata": {
    "deletable": true,
    "editable": true
   },
   "source": [
    "### Flatten Layer\n",
    "Implement the `flatten` function to change the dimension of `x_tensor` from a 4-D tensor to a 2-D tensor.  The output should be the shape (*Batch Size*, *Flattened Image Size*). Shortcut option: you can use classes from the [TensorFlow Layers](https://www.tensorflow.org/api_docs/python/tf/layers) or [TensorFlow Layers (contrib)](https://www.tensorflow.org/api_guides/python/contrib.layers) packages for this layer. For more of a challenge, only use other TensorFlow packages."
   ]
  },
  {
   "cell_type": "code",
   "execution_count": 70,
   "metadata": {
    "collapsed": false,
    "deletable": true,
    "editable": true
   },
   "outputs": [
    {
     "name": "stdout",
     "output_type": "stream",
     "text": [
      "Tests Passed\n"
     ]
    }
   ],
   "source": [
    "def flatten(x_tensor):\n",
    "    \"\"\"\n",
    "    Flatten x_tensor to (Batch Size, Flattened Image Size)\n",
    "    : x_tensor: A tensor of size (Batch Size, ...), where ... are the image dimensions.\n",
    "    : return: A tensor of size (Batch Size, Flattened Image Size).\n",
    "    \"\"\"\n",
    "    # TODO: Implement Function\n",
    "    row_size = np.prod(x_tensor.get_shape().as_list()[1:])\n",
    "    #print(row_size)\n",
    "    return tf.reshape(x_tensor, shape=[-1, row_size])\n",
    "\n",
    "\n",
    "\"\"\"\n",
    "DON'T MODIFY ANYTHING IN THIS CELL THAT IS BELOW THIS LINE\n",
    "\"\"\"\n",
    "tests.test_flatten(flatten)"
   ]
  },
  {
   "cell_type": "markdown",
   "metadata": {
    "deletable": true,
    "editable": true
   },
   "source": [
    "### Fully-Connected Layer\n",
    "Implement the `fully_conn` function to apply a fully connected layer to `x_tensor` with the shape (*Batch Size*, *num_outputs*). Shortcut option: you can use classes from the [TensorFlow Layers](https://www.tensorflow.org/api_docs/python/tf/layers) or [TensorFlow Layers (contrib)](https://www.tensorflow.org/api_guides/python/contrib.layers) packages for this layer. For more of a challenge, only use other TensorFlow packages."
   ]
  },
  {
   "cell_type": "code",
   "execution_count": 71,
   "metadata": {
    "collapsed": false,
    "deletable": true,
    "editable": true
   },
   "outputs": [
    {
     "name": "stdout",
     "output_type": "stream",
     "text": [
      "Tests Passed\n"
     ]
    }
   ],
   "source": [
    "def fully_conn(x_tensor, num_outputs):\n",
    "    \"\"\"\n",
    "    Apply a fully connected layer to x_tensor using weight and bias\n",
    "    : x_tensor: A 2-D tensor where the first dimension is batch size.\n",
    "    : num_outputs: The number of output that the new tensor should be.\n",
    "    : return: A 2-D tensor where the second dimension is num_outputs.\n",
    "    \"\"\"\n",
    "    # TODO: Implement Function\n",
    "    # TODO: do it the hard way\n",
    "    #filter_bias = tf.Variable(tf.zeros(conv_num_outputs))\n",
    "    fc = tf.layers.dense(x_tensor, num_outputs)\n",
    "    return tf.nn.relu(fc)\n",
    "\n",
    "\n",
    "\"\"\"\n",
    "DON'T MODIFY ANYTHING IN THIS CELL THAT IS BELOW THIS LINE\n",
    "\"\"\"\n",
    "tests.test_fully_conn(fully_conn)"
   ]
  },
  {
   "cell_type": "markdown",
   "metadata": {
    "deletable": true,
    "editable": true
   },
   "source": [
    "### Output Layer\n",
    "Implement the `output` function to apply a fully connected layer to `x_tensor` with the shape (*Batch Size*, *num_outputs*). Shortcut option: you can use classes from the [TensorFlow Layers](https://www.tensorflow.org/api_docs/python/tf/layers) or [TensorFlow Layers (contrib)](https://www.tensorflow.org/api_guides/python/contrib.layers) packages for this layer. For more of a challenge, only use other TensorFlow packages.\n",
    "\n",
    "**Note:** Activation, softmax, or cross entropy should **not** be applied to this."
   ]
  },
  {
   "cell_type": "code",
   "execution_count": 72,
   "metadata": {
    "collapsed": false,
    "deletable": true,
    "editable": true
   },
   "outputs": [
    {
     "name": "stdout",
     "output_type": "stream",
     "text": [
      "Tests Passed\n"
     ]
    }
   ],
   "source": [
    "def output(x_tensor, num_outputs):\n",
    "    \"\"\"\n",
    "    Apply a output layer to x_tensor using weight and bias\n",
    "    : x_tensor: A 2-D tensor where the first dimension is batch size.\n",
    "    : num_outputs: The number of output that the new tensor should be.\n",
    "    : return: A 2-D tensor where the second dimension is num_outputs.\n",
    "    \"\"\"\n",
    "    # TODO: Implement Function\n",
    "    #print(x_tensor)\n",
    "    #print(num_outputs)\n",
    "    my_output = tf.layers.dense(x_tensor, num_outputs)\n",
    "    return my_output\n",
    "    #return tf.placeholder(tf.float32, shape=[None, num_outputs])\n",
    "    #why placeholder did not work?\n",
    "\n",
    "\n",
    "\"\"\"\n",
    "DON'T MODIFY ANYTHING IN THIS CELL THAT IS BELOW THIS LINE\n",
    "\"\"\"\n",
    "tests.test_output(output)"
   ]
  },
  {
   "cell_type": "markdown",
   "metadata": {
    "deletable": true,
    "editable": true
   },
   "source": [
    "### Create Convolutional Model\n",
    "Implement the function `conv_net` to create a convolutional neural network model. The function takes in a batch of images, `x`, and outputs logits.  Use the layers you created above to create this model:\n",
    "\n",
    "* Apply 1, 2, or 3 Convolution and Max Pool layers\n",
    "* Apply a Flatten Layer\n",
    "* Apply 1, 2, or 3 Fully Connected Layers\n",
    "* Apply an Output Layer\n",
    "* Return the output\n",
    "* Apply [TensorFlow's Dropout](https://www.tensorflow.org/api_docs/python/tf/nn/dropout) to one or more layers in the model using `keep_prob`. "
   ]
  },
  {
   "cell_type": "code",
   "execution_count": 119,
   "metadata": {
    "collapsed": false,
    "deletable": true,
    "editable": true
   },
   "outputs": [
    {
     "name": "stdout",
     "output_type": "stream",
     "text": [
      "Neural Network Built!\n"
     ]
    }
   ],
   "source": [
    "def conv_net(x, keep_prob):\n",
    "    \"\"\"\n",
    "    Create a convolutional neural network model\n",
    "    : x: Placeholder tensor that holds image data.\n",
    "    : keep_prob: Placeholder tensor that hold dropout keep probability.\n",
    "    : return: Tensor that represents logits\n",
    "    \"\"\"\n",
    "    # TODO: Apply 1, 2, or 3 Convolution and Max Pool layers\n",
    "    #    Play around with different number of outputs, kernel size and stride\n",
    "    # Function Definition from Above:\n",
    "    #    conv2d_maxpool(x_tensor, conv_num_outputs, conv_ksize, conv_strides, pool_ksize, pool_strides)\n",
    "    conv1_num_outputs = 64 # layers?\n",
    "    conv1_ksize = [5,5]\n",
    "    conv1_strides = [3,3]\n",
    "    pool1_ksize=[3,3]\n",
    "    pool1_strides=[3,3]\n",
    "    \n",
    "    conv1 = conv2d_maxpool(x, conv1_num_outputs, conv1_ksize, conv1_strides, pool1_ksize, pool1_strides)\n",
    "    # TODO: stick in dropout\n",
    "    conv1 = tf.nn.dropout(conv1, keep_prob)\n",
    "    #print(conv1)\n",
    "    \n",
    "    conv2_num_outputs = 128 # layers?\n",
    "    conv2_ksize = [4,4]\n",
    "    conv2_strides = [1,1]\n",
    "    pool2_ksize=[2,2]\n",
    "    pool2_strides=[2,2]\n",
    "    \n",
    "    conv2 = conv2d_maxpool(conv1, conv2_num_outputs, conv2_ksize, conv2_strides, pool2_ksize, pool2_strides)\n",
    "    \n",
    "    conv2 = tf.nn.dropout(conv2, keep_prob)\n",
    "    \n",
    "\n",
    "    \n",
    "    # TODO: Apply a Flatten Layer\n",
    "    # Function Definition from Above:\n",
    "    #   flatten(x_tensor)\n",
    "    flat1 = flatten(conv2)\n",
    "    #print(flat1)\n",
    "\n",
    "    # TODO: Apply 1, 2, or 3 Fully Connected Layers\n",
    "    #    Play around with different number of outputs\n",
    "    # Function Definition from Above:\n",
    "    #   fully_conn(x_tensor, num_outputs)\n",
    "    fully1 = fully_conn(flat1, 512)\n",
    "    #print(fully1)\n",
    "    fully1 = tf.nn.relu(fully1)\n",
    "    fully1 = tf.nn.dropout(fully1, keep_prob)\n",
    "    \n",
    "    # TODO: Apply an Output Layer\n",
    "    #    Set this to the number of classes\n",
    "    # Function Definition from Above:\n",
    "    #   output(x_tensor, num_outputs)\n",
    "    final_output = output(fully1, 10)\n",
    "    \n",
    "    #print(final_output)\n",
    "    # TODO: return output\n",
    "    return final_output\n",
    "\n",
    "\n",
    "\"\"\"\n",
    "DON'T MODIFY ANYTHING IN THIS CELL THAT IS BELOW THIS LINE\n",
    "\"\"\"\n",
    "\n",
    "##############################\n",
    "## Build the Neural Network ##\n",
    "##############################\n",
    "\n",
    "# Remove previous weights, bias, inputs, etc..\n",
    "tf.reset_default_graph()\n",
    "\n",
    "# Inputs\n",
    "x = neural_net_image_input((32, 32, 3))\n",
    "y = neural_net_label_input(10)\n",
    "keep_prob = neural_net_keep_prob_input()\n",
    "\n",
    "# Model\n",
    "logits = conv_net(x, keep_prob)\n",
    "\n",
    "# Name logits Tensor, so that is can be loaded from disk after training\n",
    "logits = tf.identity(logits, name='logits')\n",
    "\n",
    "# Loss and Optimizer\n",
    "cost = tf.reduce_mean(tf.nn.softmax_cross_entropy_with_logits(logits=logits, labels=y))\n",
    "optimizer = tf.train.AdamOptimizer().minimize(cost)\n",
    "\n",
    "# Accuracy\n",
    "correct_pred = tf.equal(tf.argmax(logits, 1), tf.argmax(y, 1))\n",
    "accuracy = tf.reduce_mean(tf.cast(correct_pred, tf.float32), name='accuracy')\n",
    "\n",
    "tests.test_conv_net(conv_net)"
   ]
  },
  {
   "cell_type": "markdown",
   "metadata": {
    "deletable": true,
    "editable": true
   },
   "source": [
    "## Train the Neural Network\n",
    "### Single Optimization\n",
    "Implement the function `train_neural_network` to do a single optimization.  The optimization should use `optimizer` to optimize in `session` with a `feed_dict` of the following:\n",
    "* `x` for image input\n",
    "* `y` for labels\n",
    "* `keep_prob` for keep probability for dropout\n",
    "\n",
    "This function will be called for each batch, so `tf.global_variables_initializer()` has already been called.\n",
    "\n",
    "Note: Nothing needs to be returned. This function is only optimizing the neural network."
   ]
  },
  {
   "cell_type": "code",
   "execution_count": 120,
   "metadata": {
    "collapsed": false,
    "deletable": true,
    "editable": true
   },
   "outputs": [
    {
     "name": "stdout",
     "output_type": "stream",
     "text": [
      "Tests Passed\n"
     ]
    }
   ],
   "source": [
    "def train_neural_network(session, optimizer, keep_probability, feature_batch, label_batch):\n",
    "    \"\"\"\n",
    "    Optimize the session on a batch of images and labels\n",
    "    : session: Current TensorFlow session\n",
    "    : optimizer: TensorFlow optimizer function\n",
    "    : keep_probability: keep probability\n",
    "    : feature_batch: Batch of Numpy image data\n",
    "    : label_batch: Batch of Numpy label data\n",
    "    \"\"\"\n",
    "    # TODO: Implement Function\n",
    "    session.run(optimizer, feed_dict={x: feature_batch, y:label_batch, keep_prob:keep_probability })\n",
    "    #pass\n",
    "\n",
    "\n",
    "\"\"\"\n",
    "DON'T MODIFY ANYTHING IN THIS CELL THAT IS BELOW THIS LINE\n",
    "\"\"\"\n",
    "tests.test_train_nn(train_neural_network)"
   ]
  },
  {
   "cell_type": "markdown",
   "metadata": {
    "deletable": true,
    "editable": true
   },
   "source": [
    "### Show Stats\n",
    "Implement the function `print_stats` to print loss and validation accuracy.  Use the global variables `valid_features` and `valid_labels` to calculate validation accuracy.  Use a keep probability of `1.0` to calculate the loss and validation accuracy."
   ]
  },
  {
   "cell_type": "code",
   "execution_count": 121,
   "metadata": {
    "collapsed": false,
    "deletable": true,
    "editable": true
   },
   "outputs": [],
   "source": [
    "def print_stats(session, feature_batch, label_batch, cost, accuracy):\n",
    "    \"\"\"\n",
    "    Print information about loss and validation accuracy\n",
    "    : session: Current TensorFlow session\n",
    "    : feature_batch: Batch of Numpy image data\n",
    "    : label_batch: Batch of Numpy label data\n",
    "    : cost: TensorFlow cost function\n",
    "    : accuracy: TensorFlow accuracy function\n",
    "    \"\"\"\n",
    "    # TODO: Implement Function\n",
    "    loss = session.run(cost, feed_dict={x: feature_batch, y:label_batch, keep_prob:1 })\n",
    "    acc = session.run(accuracy, feed_dict={x: valid_features, y:valid_labels, keep_prob:1 })\n",
    "    print('Loss: {:>10.4f} Validation Accuracy: {:.6f}'.format(loss, acc))"
   ]
  },
  {
   "cell_type": "markdown",
   "metadata": {
    "deletable": true,
    "editable": true
   },
   "source": [
    "### Hyperparameters\n",
    "Tune the following parameters:\n",
    "* Set `epochs` to the number of iterations until the network stops learning or start overfitting\n",
    "* Set `batch_size` to the highest number that your machine has memory for.  Most people set them to common sizes of memory:\n",
    " * 64\n",
    " * 128\n",
    " * 256\n",
    " * ...\n",
    "* Set `keep_probability` to the probability of keeping a node using dropout"
   ]
  },
  {
   "cell_type": "code",
   "execution_count": 124,
   "metadata": {
    "collapsed": true,
    "deletable": true,
    "editable": true
   },
   "outputs": [],
   "source": [
    "# TODO: Tune Parameters\n",
    "epochs = 50\n",
    "batch_size = 128\n",
    "keep_probability = .75"
   ]
  },
  {
   "cell_type": "markdown",
   "metadata": {
    "deletable": true,
    "editable": true
   },
   "source": [
    "### Train on a Single CIFAR-10 Batch\n",
    "Instead of training the neural network on all the CIFAR-10 batches of data, let's use a single batch. This should save time while you iterate on the model to get a better accuracy.  Once the final validation accuracy is 50% or greater, run the model on all the data in the next section."
   ]
  },
  {
   "cell_type": "code",
   "execution_count": 125,
   "metadata": {
    "collapsed": false,
    "deletable": true,
    "editable": true,
    "scrolled": true
   },
   "outputs": [
    {
     "name": "stdout",
     "output_type": "stream",
     "text": [
      "Checking the Training on a Single Batch...\n",
      "Epoch  1, CIFAR-10 Batch 1:  Loss:     2.1601 Validation Accuracy: 0.322400\n",
      "Epoch  2, CIFAR-10 Batch 1:  Loss:     1.9933 Validation Accuracy: 0.379400\n",
      "Epoch  3, CIFAR-10 Batch 1:  Loss:     1.8528 Validation Accuracy: 0.408600\n",
      "Epoch  4, CIFAR-10 Batch 1:  Loss:     1.7810 Validation Accuracy: 0.422600\n",
      "Epoch  5, CIFAR-10 Batch 1:  Loss:     1.7170 Validation Accuracy: 0.433800\n",
      "Epoch  6, CIFAR-10 Batch 1:  Loss:     1.6524 Validation Accuracy: 0.437600\n",
      "Epoch  7, CIFAR-10 Batch 1:  Loss:     1.6265 Validation Accuracy: 0.449200\n",
      "Epoch  8, CIFAR-10 Batch 1:  Loss:     1.5491 Validation Accuracy: 0.444600\n",
      "Epoch  9, CIFAR-10 Batch 1:  Loss:     1.4676 Validation Accuracy: 0.458000\n",
      "Epoch 10, CIFAR-10 Batch 1:  Loss:     1.5152 Validation Accuracy: 0.466800\n",
      "Epoch 11, CIFAR-10 Batch 1:  Loss:     1.4091 Validation Accuracy: 0.473600\n",
      "Epoch 12, CIFAR-10 Batch 1:  Loss:     1.3985 Validation Accuracy: 0.479000\n",
      "Epoch 13, CIFAR-10 Batch 1:  Loss:     1.3919 Validation Accuracy: 0.468000\n",
      "Epoch 14, CIFAR-10 Batch 1:  Loss:     1.3106 Validation Accuracy: 0.483600\n",
      "Epoch 15, CIFAR-10 Batch 1:  Loss:     1.3049 Validation Accuracy: 0.480600\n",
      "Epoch 16, CIFAR-10 Batch 1:  Loss:     1.2787 Validation Accuracy: 0.487400\n",
      "Epoch 17, CIFAR-10 Batch 1:  Loss:     1.1748 Validation Accuracy: 0.478600\n",
      "Epoch 18, CIFAR-10 Batch 1:  Loss:     1.2042 Validation Accuracy: 0.487600\n",
      "Epoch 19, CIFAR-10 Batch 1:  Loss:     1.1443 Validation Accuracy: 0.495800\n",
      "Epoch 20, CIFAR-10 Batch 1:  Loss:     1.1505 Validation Accuracy: 0.500600\n",
      "Epoch 21, CIFAR-10 Batch 1:  Loss:     1.0607 Validation Accuracy: 0.501000\n",
      "Epoch 22, CIFAR-10 Batch 1:  Loss:     1.0720 Validation Accuracy: 0.494600\n",
      "Epoch 23, CIFAR-10 Batch 1:  Loss:     1.0236 Validation Accuracy: 0.497600\n",
      "Epoch 24, CIFAR-10 Batch 1:  Loss:     1.0517 Validation Accuracy: 0.498200\n",
      "Epoch 25, CIFAR-10 Batch 1:  Loss:     1.0054 Validation Accuracy: 0.506200\n",
      "Epoch 26, CIFAR-10 Batch 1:  Loss:     0.9366 Validation Accuracy: 0.502400\n",
      "Epoch 27, CIFAR-10 Batch 1:  Loss:     0.9473 Validation Accuracy: 0.513200\n",
      "Epoch 28, CIFAR-10 Batch 1:  Loss:     0.9233 Validation Accuracy: 0.515800\n",
      "Epoch 29, CIFAR-10 Batch 1:  Loss:     0.8885 Validation Accuracy: 0.503200\n",
      "Epoch 30, CIFAR-10 Batch 1:  Loss:     0.8961 Validation Accuracy: 0.499200\n",
      "Epoch 31, CIFAR-10 Batch 1:  Loss:     0.8412 Validation Accuracy: 0.506400\n",
      "Epoch 32, CIFAR-10 Batch 1:  Loss:     0.8276 Validation Accuracy: 0.514600\n",
      "Epoch 33, CIFAR-10 Batch 1:  Loss:     0.7982 Validation Accuracy: 0.520200\n",
      "Epoch 34, CIFAR-10 Batch 1:  Loss:     0.8224 Validation Accuracy: 0.519600\n",
      "Epoch 35, CIFAR-10 Batch 1:  Loss:     0.7819 Validation Accuracy: 0.526400\n",
      "Epoch 36, CIFAR-10 Batch 1:  Loss:     0.7450 Validation Accuracy: 0.522600\n",
      "Epoch 37, CIFAR-10 Batch 1:  Loss:     0.7731 Validation Accuracy: 0.525000\n",
      "Epoch 38, CIFAR-10 Batch 1:  Loss:     0.7505 Validation Accuracy: 0.512400\n",
      "Epoch 39, CIFAR-10 Batch 1:  Loss:     0.7566 Validation Accuracy: 0.516600\n",
      "Epoch 40, CIFAR-10 Batch 1:  Loss:     0.6906 Validation Accuracy: 0.520400\n",
      "Epoch 41, CIFAR-10 Batch 1:  Loss:     0.6961 Validation Accuracy: 0.523800\n",
      "Epoch 42, CIFAR-10 Batch 1:  Loss:     0.7069 Validation Accuracy: 0.518200\n",
      "Epoch 43, CIFAR-10 Batch 1:  Loss:     0.6817 Validation Accuracy: 0.522400\n",
      "Epoch 44, CIFAR-10 Batch 1:  Loss:     0.6975 Validation Accuracy: 0.529800\n",
      "Epoch 45, CIFAR-10 Batch 1:  Loss:     0.6819 Validation Accuracy: 0.525800\n",
      "Epoch 46, CIFAR-10 Batch 1:  Loss:     0.6314 Validation Accuracy: 0.524800\n",
      "Epoch 47, CIFAR-10 Batch 1:  Loss:     0.5968 Validation Accuracy: 0.527600\n",
      "Epoch 48, CIFAR-10 Batch 1:  Loss:     0.5520 Validation Accuracy: 0.532000\n",
      "Epoch 49, CIFAR-10 Batch 1:  Loss:     0.5457 Validation Accuracy: 0.523400\n",
      "Epoch 50, CIFAR-10 Batch 1:  Loss:     0.5465 Validation Accuracy: 0.530600\n"
     ]
    }
   ],
   "source": [
    "\"\"\"\n",
    "DON'T MODIFY ANYTHING IN THIS CELL\n",
    "\"\"\"\n",
    "print('Checking the Training on a Single Batch...')\n",
    "with tf.Session() as sess:\n",
    "    # Initializing the variables\n",
    "    sess.run(tf.global_variables_initializer())\n",
    "    \n",
    "    # Training cycle\n",
    "    for epoch in range(epochs):\n",
    "        batch_i = 1\n",
    "        for batch_features, batch_labels in helper.load_preprocess_training_batch(batch_i, batch_size):\n",
    "            train_neural_network(sess, optimizer, keep_probability, batch_features, batch_labels)\n",
    "        print('Epoch {:>2}, CIFAR-10 Batch {}:  '.format(epoch + 1, batch_i), end='')\n",
    "        print_stats(sess, batch_features, batch_labels, cost, accuracy)"
   ]
  },
  {
   "cell_type": "markdown",
   "metadata": {
    "deletable": true,
    "editable": true
   },
   "source": [
    "### Fully Train the Model\n",
    "Now that you got a good accuracy with a single CIFAR-10 batch, try it with all five batches."
   ]
  },
  {
   "cell_type": "code",
   "execution_count": 126,
   "metadata": {
    "collapsed": false,
    "deletable": true,
    "editable": true
   },
   "outputs": [
    {
     "name": "stdout",
     "output_type": "stream",
     "text": [
      "Training...\n",
      "Epoch  1, CIFAR-10 Batch 1:  Loss:     2.1003 Validation Accuracy: 0.324400\n",
      "Epoch  1, CIFAR-10 Batch 2:  Loss:     1.8396 Validation Accuracy: 0.360800\n",
      "Epoch  1, CIFAR-10 Batch 3:  Loss:     1.7416 Validation Accuracy: 0.362000\n",
      "Epoch  1, CIFAR-10 Batch 4:  Loss:     1.7355 Validation Accuracy: 0.394400\n",
      "Epoch  1, CIFAR-10 Batch 5:  Loss:     1.7601 Validation Accuracy: 0.415600\n",
      "Epoch  2, CIFAR-10 Batch 1:  Loss:     1.7647 Validation Accuracy: 0.424000\n",
      "Epoch  2, CIFAR-10 Batch 2:  Loss:     1.7189 Validation Accuracy: 0.433000\n",
      "Epoch  2, CIFAR-10 Batch 3:  Loss:     1.4630 Validation Accuracy: 0.438200\n",
      "Epoch  2, CIFAR-10 Batch 4:  Loss:     1.5309 Validation Accuracy: 0.446200\n",
      "Epoch  2, CIFAR-10 Batch 5:  Loss:     1.6515 Validation Accuracy: 0.464000\n",
      "Epoch  3, CIFAR-10 Batch 1:  Loss:     1.7539 Validation Accuracy: 0.468400\n",
      "Epoch  3, CIFAR-10 Batch 2:  Loss:     1.5933 Validation Accuracy: 0.455200\n",
      "Epoch  3, CIFAR-10 Batch 3:  Loss:     1.3775 Validation Accuracy: 0.459000\n",
      "Epoch  3, CIFAR-10 Batch 4:  Loss:     1.4492 Validation Accuracy: 0.465000\n",
      "Epoch  3, CIFAR-10 Batch 5:  Loss:     1.6202 Validation Accuracy: 0.478800\n",
      "Epoch  4, CIFAR-10 Batch 1:  Loss:     1.6283 Validation Accuracy: 0.483800\n",
      "Epoch  4, CIFAR-10 Batch 2:  Loss:     1.4653 Validation Accuracy: 0.476200\n",
      "Epoch  4, CIFAR-10 Batch 3:  Loss:     1.2815 Validation Accuracy: 0.473200\n",
      "Epoch  4, CIFAR-10 Batch 4:  Loss:     1.3168 Validation Accuracy: 0.494400\n",
      "Epoch  4, CIFAR-10 Batch 5:  Loss:     1.5969 Validation Accuracy: 0.493400\n",
      "Epoch  5, CIFAR-10 Batch 1:  Loss:     1.6054 Validation Accuracy: 0.500200\n",
      "Epoch  5, CIFAR-10 Batch 2:  Loss:     1.4087 Validation Accuracy: 0.495600\n",
      "Epoch  5, CIFAR-10 Batch 3:  Loss:     1.2023 Validation Accuracy: 0.487400\n",
      "Epoch  5, CIFAR-10 Batch 4:  Loss:     1.2195 Validation Accuracy: 0.507200\n",
      "Epoch  5, CIFAR-10 Batch 5:  Loss:     1.5383 Validation Accuracy: 0.507200\n",
      "Epoch  6, CIFAR-10 Batch 1:  Loss:     1.4936 Validation Accuracy: 0.514200\n",
      "Epoch  6, CIFAR-10 Batch 2:  Loss:     1.3074 Validation Accuracy: 0.505800\n",
      "Epoch  6, CIFAR-10 Batch 3:  Loss:     1.1546 Validation Accuracy: 0.497200\n",
      "Epoch  6, CIFAR-10 Batch 4:  Loss:     1.2113 Validation Accuracy: 0.515200\n",
      "Epoch  6, CIFAR-10 Batch 5:  Loss:     1.5382 Validation Accuracy: 0.505600\n",
      "Epoch  7, CIFAR-10 Batch 1:  Loss:     1.4323 Validation Accuracy: 0.510200\n",
      "Epoch  7, CIFAR-10 Batch 2:  Loss:     1.2994 Validation Accuracy: 0.526000\n",
      "Epoch  7, CIFAR-10 Batch 3:  Loss:     1.1226 Validation Accuracy: 0.513600\n",
      "Epoch  7, CIFAR-10 Batch 4:  Loss:     1.1863 Validation Accuracy: 0.531800\n",
      "Epoch  7, CIFAR-10 Batch 5:  Loss:     1.4894 Validation Accuracy: 0.513000\n",
      "Epoch  8, CIFAR-10 Batch 1:  Loss:     1.3425 Validation Accuracy: 0.533800\n",
      "Epoch  8, CIFAR-10 Batch 2:  Loss:     1.2702 Validation Accuracy: 0.528000\n",
      "Epoch  8, CIFAR-10 Batch 3:  Loss:     1.0742 Validation Accuracy: 0.529000\n",
      "Epoch  8, CIFAR-10 Batch 4:  Loss:     1.0754 Validation Accuracy: 0.531800\n",
      "Epoch  8, CIFAR-10 Batch 5:  Loss:     1.4368 Validation Accuracy: 0.517800\n",
      "Epoch  9, CIFAR-10 Batch 1:  Loss:     1.3575 Validation Accuracy: 0.539600\n",
      "Epoch  9, CIFAR-10 Batch 2:  Loss:     1.1763 Validation Accuracy: 0.534800\n",
      "Epoch  9, CIFAR-10 Batch 3:  Loss:     0.9896 Validation Accuracy: 0.532400\n",
      "Epoch  9, CIFAR-10 Batch 4:  Loss:     1.0361 Validation Accuracy: 0.545600\n",
      "Epoch  9, CIFAR-10 Batch 5:  Loss:     1.3436 Validation Accuracy: 0.540200\n",
      "Epoch 10, CIFAR-10 Batch 1:  Loss:     1.2408 Validation Accuracy: 0.541000\n",
      "Epoch 10, CIFAR-10 Batch 2:  Loss:     1.0804 Validation Accuracy: 0.549200\n",
      "Epoch 10, CIFAR-10 Batch 3:  Loss:     0.9651 Validation Accuracy: 0.547200\n",
      "Epoch 10, CIFAR-10 Batch 4:  Loss:     1.0351 Validation Accuracy: 0.549600\n",
      "Epoch 10, CIFAR-10 Batch 5:  Loss:     1.2820 Validation Accuracy: 0.547200\n",
      "Epoch 11, CIFAR-10 Batch 1:  Loss:     1.2438 Validation Accuracy: 0.554400\n",
      "Epoch 11, CIFAR-10 Batch 2:  Loss:     1.0986 Validation Accuracy: 0.552200\n",
      "Epoch 11, CIFAR-10 Batch 3:  Loss:     0.9220 Validation Accuracy: 0.545200\n",
      "Epoch 11, CIFAR-10 Batch 4:  Loss:     1.0471 Validation Accuracy: 0.539400\n",
      "Epoch 11, CIFAR-10 Batch 5:  Loss:     1.2358 Validation Accuracy: 0.550800\n",
      "Epoch 12, CIFAR-10 Batch 1:  Loss:     1.1510 Validation Accuracy: 0.555600\n",
      "Epoch 12, CIFAR-10 Batch 2:  Loss:     1.0312 Validation Accuracy: 0.556800\n",
      "Epoch 12, CIFAR-10 Batch 3:  Loss:     0.9024 Validation Accuracy: 0.557600\n",
      "Epoch 12, CIFAR-10 Batch 4:  Loss:     0.9959 Validation Accuracy: 0.549200\n",
      "Epoch 12, CIFAR-10 Batch 5:  Loss:     1.2098 Validation Accuracy: 0.557200\n",
      "Epoch 13, CIFAR-10 Batch 1:  Loss:     1.0693 Validation Accuracy: 0.562200\n",
      "Epoch 13, CIFAR-10 Batch 2:  Loss:     0.9867 Validation Accuracy: 0.567200\n",
      "Epoch 13, CIFAR-10 Batch 3:  Loss:     0.8467 Validation Accuracy: 0.568000\n",
      "Epoch 13, CIFAR-10 Batch 4:  Loss:     0.9546 Validation Accuracy: 0.564600\n",
      "Epoch 13, CIFAR-10 Batch 5:  Loss:     1.1324 Validation Accuracy: 0.565200\n",
      "Epoch 14, CIFAR-10 Batch 1:  Loss:     1.1469 Validation Accuracy: 0.558600\n",
      "Epoch 14, CIFAR-10 Batch 2:  Loss:     0.9543 Validation Accuracy: 0.570400\n",
      "Epoch 14, CIFAR-10 Batch 3:  Loss:     0.7860 Validation Accuracy: 0.558000\n",
      "Epoch 14, CIFAR-10 Batch 4:  Loss:     0.9346 Validation Accuracy: 0.564600\n",
      "Epoch 14, CIFAR-10 Batch 5:  Loss:     1.1860 Validation Accuracy: 0.560200\n",
      "Epoch 15, CIFAR-10 Batch 1:  Loss:     1.0580 Validation Accuracy: 0.573000\n",
      "Epoch 15, CIFAR-10 Batch 2:  Loss:     0.9694 Validation Accuracy: 0.571200\n",
      "Epoch 15, CIFAR-10 Batch 3:  Loss:     0.7914 Validation Accuracy: 0.556200\n",
      "Epoch 15, CIFAR-10 Batch 4:  Loss:     0.9192 Validation Accuracy: 0.567800\n",
      "Epoch 15, CIFAR-10 Batch 5:  Loss:     1.0843 Validation Accuracy: 0.567800\n",
      "Epoch 16, CIFAR-10 Batch 1:  Loss:     1.0884 Validation Accuracy: 0.560800\n",
      "Epoch 16, CIFAR-10 Batch 2:  Loss:     0.9441 Validation Accuracy: 0.570000\n",
      "Epoch 16, CIFAR-10 Batch 3:  Loss:     0.8115 Validation Accuracy: 0.560400\n",
      "Epoch 16, CIFAR-10 Batch 4:  Loss:     0.9072 Validation Accuracy: 0.573200\n",
      "Epoch 16, CIFAR-10 Batch 5:  Loss:     1.0234 Validation Accuracy: 0.578400\n",
      "Epoch 17, CIFAR-10 Batch 1:  Loss:     1.0367 Validation Accuracy: 0.578400\n",
      "Epoch 17, CIFAR-10 Batch 2:  Loss:     0.9035 Validation Accuracy: 0.566800\n",
      "Epoch 17, CIFAR-10 Batch 3:  Loss:     0.7541 Validation Accuracy: 0.571600\n",
      "Epoch 17, CIFAR-10 Batch 4:  Loss:     0.8685 Validation Accuracy: 0.576400\n",
      "Epoch 17, CIFAR-10 Batch 5:  Loss:     1.0546 Validation Accuracy: 0.583800\n",
      "Epoch 18, CIFAR-10 Batch 1:  Loss:     1.0384 Validation Accuracy: 0.577400\n",
      "Epoch 18, CIFAR-10 Batch 2:  Loss:     0.9282 Validation Accuracy: 0.583000\n",
      "Epoch 18, CIFAR-10 Batch 3:  Loss:     0.7416 Validation Accuracy: 0.564000\n",
      "Epoch 18, CIFAR-10 Batch 4:  Loss:     0.8308 Validation Accuracy: 0.583000\n",
      "Epoch 18, CIFAR-10 Batch 5:  Loss:     0.9770 Validation Accuracy: 0.580800\n",
      "Epoch 19, CIFAR-10 Batch 1:  Loss:     1.0249 Validation Accuracy: 0.588600\n",
      "Epoch 19, CIFAR-10 Batch 2:  Loss:     0.8923 Validation Accuracy: 0.580600\n",
      "Epoch 19, CIFAR-10 Batch 3:  Loss:     0.7576 Validation Accuracy: 0.565600\n",
      "Epoch 19, CIFAR-10 Batch 4:  Loss:     0.8227 Validation Accuracy: 0.585200\n",
      "Epoch 19, CIFAR-10 Batch 5:  Loss:     0.9878 Validation Accuracy: 0.588000\n",
      "Epoch 20, CIFAR-10 Batch 1:  Loss:     1.0060 Validation Accuracy: 0.588000\n",
      "Epoch 20, CIFAR-10 Batch 2:  Loss:     0.8952 Validation Accuracy: 0.587200\n",
      "Epoch 20, CIFAR-10 Batch 3:  Loss:     0.7374 Validation Accuracy: 0.571800\n",
      "Epoch 20, CIFAR-10 Batch 4:  Loss:     0.7934 Validation Accuracy: 0.589600\n",
      "Epoch 20, CIFAR-10 Batch 5:  Loss:     0.9692 Validation Accuracy: 0.579800\n",
      "Epoch 21, CIFAR-10 Batch 1:  Loss:     0.9792 Validation Accuracy: 0.594800\n",
      "Epoch 21, CIFAR-10 Batch 2:  Loss:     0.8921 Validation Accuracy: 0.584000\n",
      "Epoch 21, CIFAR-10 Batch 3:  Loss:     0.6925 Validation Accuracy: 0.573000\n",
      "Epoch 21, CIFAR-10 Batch 4:  Loss:     0.7884 Validation Accuracy: 0.580800\n",
      "Epoch 21, CIFAR-10 Batch 5:  Loss:     0.9008 Validation Accuracy: 0.586200\n",
      "Epoch 22, CIFAR-10 Batch 1:  Loss:     0.9898 Validation Accuracy: 0.584800\n",
      "Epoch 22, CIFAR-10 Batch 2:  Loss:     0.8138 Validation Accuracy: 0.585200\n",
      "Epoch 22, CIFAR-10 Batch 3:  Loss:     0.6872 Validation Accuracy: 0.576000\n",
      "Epoch 22, CIFAR-10 Batch 4:  Loss:     0.7916 Validation Accuracy: 0.590600\n",
      "Epoch 22, CIFAR-10 Batch 5:  Loss:     0.9301 Validation Accuracy: 0.592200\n",
      "Epoch 23, CIFAR-10 Batch 1:  Loss:     0.9195 Validation Accuracy: 0.597400\n",
      "Epoch 23, CIFAR-10 Batch 2:  Loss:     0.8242 Validation Accuracy: 0.592000\n",
      "Epoch 23, CIFAR-10 Batch 3:  Loss:     0.6748 Validation Accuracy: 0.588800\n",
      "Epoch 23, CIFAR-10 Batch 4:  Loss:     0.7601 Validation Accuracy: 0.589400\n",
      "Epoch 23, CIFAR-10 Batch 5:  Loss:     0.8290 Validation Accuracy: 0.593400\n",
      "Epoch 24, CIFAR-10 Batch 1:  Loss:     0.9058 Validation Accuracy: 0.588800\n",
      "Epoch 24, CIFAR-10 Batch 2:  Loss:     0.7840 Validation Accuracy: 0.590400\n",
      "Epoch 24, CIFAR-10 Batch 3:  Loss:     0.6309 Validation Accuracy: 0.589200\n",
      "Epoch 24, CIFAR-10 Batch 4:  Loss:     0.7911 Validation Accuracy: 0.593400\n",
      "Epoch 24, CIFAR-10 Batch 5:  Loss:     0.8486 Validation Accuracy: 0.586200\n",
      "Epoch 25, CIFAR-10 Batch 1:  Loss:     0.9357 Validation Accuracy: 0.597200\n",
      "Epoch 25, CIFAR-10 Batch 2:  Loss:     0.7709 Validation Accuracy: 0.587800\n",
      "Epoch 25, CIFAR-10 Batch 3:  Loss:     0.6375 Validation Accuracy: 0.580400\n",
      "Epoch 25, CIFAR-10 Batch 4:  Loss:     0.7503 Validation Accuracy: 0.600600\n",
      "Epoch 25, CIFAR-10 Batch 5:  Loss:     0.8421 Validation Accuracy: 0.594000\n",
      "Epoch 26, CIFAR-10 Batch 1:  Loss:     0.8571 Validation Accuracy: 0.595800\n",
      "Epoch 26, CIFAR-10 Batch 2:  Loss:     0.7474 Validation Accuracy: 0.582800\n",
      "Epoch 26, CIFAR-10 Batch 3:  Loss:     0.6163 Validation Accuracy: 0.595800\n",
      "Epoch 26, CIFAR-10 Batch 4:  Loss:     0.6893 Validation Accuracy: 0.594600\n",
      "Epoch 26, CIFAR-10 Batch 5:  Loss:     0.8745 Validation Accuracy: 0.586600\n",
      "Epoch 27, CIFAR-10 Batch 1:  Loss:     0.8622 Validation Accuracy: 0.599600\n",
      "Epoch 27, CIFAR-10 Batch 2:  Loss:     0.7090 Validation Accuracy: 0.602600\n",
      "Epoch 27, CIFAR-10 Batch 3:  Loss:     0.5622 Validation Accuracy: 0.586200\n",
      "Epoch 27, CIFAR-10 Batch 4:  Loss:     0.6422 Validation Accuracy: 0.606800\n",
      "Epoch 27, CIFAR-10 Batch 5:  Loss:     0.9397 Validation Accuracy: 0.592000\n",
      "Epoch 28, CIFAR-10 Batch 1:  Loss:     0.9028 Validation Accuracy: 0.600600\n",
      "Epoch 28, CIFAR-10 Batch 2:  Loss:     0.7553 Validation Accuracy: 0.602800\n",
      "Epoch 28, CIFAR-10 Batch 3:  Loss:     0.6023 Validation Accuracy: 0.586400\n",
      "Epoch 28, CIFAR-10 Batch 4:  Loss:     0.7255 Validation Accuracy: 0.604400\n",
      "Epoch 28, CIFAR-10 Batch 5:  Loss:     0.8216 Validation Accuracy: 0.600600\n",
      "Epoch 29, CIFAR-10 Batch 1:  Loss:     0.8107 Validation Accuracy: 0.601600\n",
      "Epoch 29, CIFAR-10 Batch 2:  Loss:     0.7101 Validation Accuracy: 0.584200\n",
      "Epoch 29, CIFAR-10 Batch 3:  Loss:     0.6249 Validation Accuracy: 0.588000\n",
      "Epoch 29, CIFAR-10 Batch 4:  Loss:     0.6777 Validation Accuracy: 0.600000\n",
      "Epoch 29, CIFAR-10 Batch 5:  Loss:     0.8291 Validation Accuracy: 0.598800\n",
      "Epoch 30, CIFAR-10 Batch 1:  Loss:     0.8377 Validation Accuracy: 0.599800\n",
      "Epoch 30, CIFAR-10 Batch 2:  Loss:     0.6828 Validation Accuracy: 0.592800\n",
      "Epoch 30, CIFAR-10 Batch 3:  Loss:     0.4827 Validation Accuracy: 0.593600\n",
      "Epoch 30, CIFAR-10 Batch 4:  Loss:     0.6600 Validation Accuracy: 0.604800\n",
      "Epoch 30, CIFAR-10 Batch 5:  Loss:     0.7797 Validation Accuracy: 0.607000\n",
      "Epoch 31, CIFAR-10 Batch 1:  Loss:     0.8089 Validation Accuracy: 0.608600\n",
      "Epoch 31, CIFAR-10 Batch 2:  Loss:     0.7170 Validation Accuracy: 0.602200\n",
      "Epoch 31, CIFAR-10 Batch 3:  Loss:     0.5240 Validation Accuracy: 0.598200\n",
      "Epoch 31, CIFAR-10 Batch 4:  Loss:     0.6237 Validation Accuracy: 0.613200\n",
      "Epoch 31, CIFAR-10 Batch 5:  Loss:     0.7008 Validation Accuracy: 0.605800\n",
      "Epoch 32, CIFAR-10 Batch 1:  Loss:     0.7784 Validation Accuracy: 0.610800\n",
      "Epoch 32, CIFAR-10 Batch 2:  Loss:     0.6183 Validation Accuracy: 0.598200\n",
      "Epoch 32, CIFAR-10 Batch 3:  Loss:     0.5503 Validation Accuracy: 0.592800\n",
      "Epoch 32, CIFAR-10 Batch 4:  Loss:     0.6334 Validation Accuracy: 0.603200\n",
      "Epoch 32, CIFAR-10 Batch 5:  Loss:     0.7358 Validation Accuracy: 0.606200\n",
      "Epoch 33, CIFAR-10 Batch 1:  Loss:     0.8014 Validation Accuracy: 0.604200\n",
      "Epoch 33, CIFAR-10 Batch 2:  Loss:     0.6663 Validation Accuracy: 0.610200\n",
      "Epoch 33, CIFAR-10 Batch 3:  Loss:     0.5093 Validation Accuracy: 0.601800\n",
      "Epoch 33, CIFAR-10 Batch 4:  Loss:     0.6297 Validation Accuracy: 0.607400\n",
      "Epoch 33, CIFAR-10 Batch 5:  Loss:     0.7295 Validation Accuracy: 0.609600\n",
      "Epoch 34, CIFAR-10 Batch 1:  Loss:     0.7596 Validation Accuracy: 0.605600\n",
      "Epoch 34, CIFAR-10 Batch 2:  Loss:     0.6463 Validation Accuracy: 0.603800\n",
      "Epoch 34, CIFAR-10 Batch 3:  Loss:     0.4948 Validation Accuracy: 0.599200\n",
      "Epoch 34, CIFAR-10 Batch 4:  Loss:     0.7034 Validation Accuracy: 0.600800\n",
      "Epoch 34, CIFAR-10 Batch 5:  Loss:     0.7620 Validation Accuracy: 0.603600\n",
      "Epoch 35, CIFAR-10 Batch 1:  Loss:     0.7512 Validation Accuracy: 0.606800\n",
      "Epoch 35, CIFAR-10 Batch 2:  Loss:     0.6249 Validation Accuracy: 0.604600\n",
      "Epoch 35, CIFAR-10 Batch 3:  Loss:     0.5024 Validation Accuracy: 0.605400\n",
      "Epoch 35, CIFAR-10 Batch 4:  Loss:     0.6113 Validation Accuracy: 0.615200\n",
      "Epoch 35, CIFAR-10 Batch 5:  Loss:     0.7726 Validation Accuracy: 0.601000\n",
      "Epoch 36, CIFAR-10 Batch 1:  Loss:     0.7577 Validation Accuracy: 0.614200\n",
      "Epoch 36, CIFAR-10 Batch 2:  Loss:     0.5870 Validation Accuracy: 0.601400\n",
      "Epoch 36, CIFAR-10 Batch 3:  Loss:     0.5233 Validation Accuracy: 0.611800\n",
      "Epoch 36, CIFAR-10 Batch 4:  Loss:     0.5763 Validation Accuracy: 0.605200\n",
      "Epoch 36, CIFAR-10 Batch 5:  Loss:     0.6857 Validation Accuracy: 0.610800\n",
      "Epoch 37, CIFAR-10 Batch 1:  Loss:     0.7971 Validation Accuracy: 0.610800\n",
      "Epoch 37, CIFAR-10 Batch 2:  Loss:     0.6382 Validation Accuracy: 0.606000\n",
      "Epoch 37, CIFAR-10 Batch 3:  Loss:     0.5209 Validation Accuracy: 0.594800\n",
      "Epoch 37, CIFAR-10 Batch 4:  Loss:     0.5703 Validation Accuracy: 0.608000\n",
      "Epoch 37, CIFAR-10 Batch 5:  Loss:     0.6963 Validation Accuracy: 0.598200\n",
      "Epoch 38, CIFAR-10 Batch 1:  Loss:     0.6964 Validation Accuracy: 0.601800\n",
      "Epoch 38, CIFAR-10 Batch 2:  Loss:     0.6057 Validation Accuracy: 0.614800\n",
      "Epoch 38, CIFAR-10 Batch 3:  Loss:     0.4682 Validation Accuracy: 0.608600\n",
      "Epoch 38, CIFAR-10 Batch 4:  Loss:     0.5515 Validation Accuracy: 0.614400\n",
      "Epoch 38, CIFAR-10 Batch 5:  Loss:     0.6844 Validation Accuracy: 0.608200\n",
      "Epoch 39, CIFAR-10 Batch 1:  Loss:     0.7302 Validation Accuracy: 0.605000\n",
      "Epoch 39, CIFAR-10 Batch 2:  Loss:     0.5472 Validation Accuracy: 0.603400\n",
      "Epoch 39, CIFAR-10 Batch 3:  Loss:     0.4190 Validation Accuracy: 0.606200\n",
      "Epoch 39, CIFAR-10 Batch 4:  Loss:     0.5331 Validation Accuracy: 0.614200\n",
      "Epoch 39, CIFAR-10 Batch 5:  Loss:     0.6309 Validation Accuracy: 0.610600\n",
      "Epoch 40, CIFAR-10 Batch 1:  Loss:     0.6838 Validation Accuracy: 0.616000\n",
      "Epoch 40, CIFAR-10 Batch 2:  Loss:     0.5616 Validation Accuracy: 0.610400\n",
      "Epoch 40, CIFAR-10 Batch 3:  Loss:     0.4536 Validation Accuracy: 0.609800\n",
      "Epoch 40, CIFAR-10 Batch 4:  Loss:     0.5577 Validation Accuracy: 0.607800\n",
      "Epoch 40, CIFAR-10 Batch 5:  Loss:     0.6836 Validation Accuracy: 0.604600\n",
      "Epoch 41, CIFAR-10 Batch 1:  Loss:     0.5980 Validation Accuracy: 0.608400\n",
      "Epoch 41, CIFAR-10 Batch 2:  Loss:     0.6183 Validation Accuracy: 0.610600\n",
      "Epoch 41, CIFAR-10 Batch 3:  Loss:     0.4544 Validation Accuracy: 0.611600\n",
      "Epoch 41, CIFAR-10 Batch 4:  Loss:     0.5173 Validation Accuracy: 0.614600\n",
      "Epoch 41, CIFAR-10 Batch 5:  Loss:     0.5926 Validation Accuracy: 0.621600\n",
      "Epoch 42, CIFAR-10 Batch 1:  Loss:     0.7356 Validation Accuracy: 0.613400\n",
      "Epoch 42, CIFAR-10 Batch 2:  Loss:     0.5849 Validation Accuracy: 0.607800\n",
      "Epoch 42, CIFAR-10 Batch 3:  Loss:     0.4513 Validation Accuracy: 0.608600\n",
      "Epoch 42, CIFAR-10 Batch 4:  Loss:     0.4879 Validation Accuracy: 0.610600\n",
      "Epoch 42, CIFAR-10 Batch 5:  Loss:     0.6747 Validation Accuracy: 0.609600\n",
      "Epoch 43, CIFAR-10 Batch 1:  Loss:     0.6233 Validation Accuracy: 0.614200\n",
      "Epoch 43, CIFAR-10 Batch 2:  Loss:     0.5296 Validation Accuracy: 0.604600\n",
      "Epoch 43, CIFAR-10 Batch 3:  Loss:     0.4455 Validation Accuracy: 0.601400\n",
      "Epoch 43, CIFAR-10 Batch 4:  Loss:     0.5127 Validation Accuracy: 0.609000\n",
      "Epoch 43, CIFAR-10 Batch 5:  Loss:     0.6381 Validation Accuracy: 0.619200\n",
      "Epoch 44, CIFAR-10 Batch 1:  Loss:     0.6308 Validation Accuracy: 0.615600\n",
      "Epoch 44, CIFAR-10 Batch 2:  Loss:     0.5601 Validation Accuracy: 0.611400\n",
      "Epoch 44, CIFAR-10 Batch 3:  Loss:     0.4744 Validation Accuracy: 0.614600\n",
      "Epoch 44, CIFAR-10 Batch 4:  Loss:     0.5563 Validation Accuracy: 0.613200\n",
      "Epoch 44, CIFAR-10 Batch 5:  Loss:     0.6210 Validation Accuracy: 0.620000\n",
      "Epoch 45, CIFAR-10 Batch 1:  Loss:     0.6558 Validation Accuracy: 0.622400\n",
      "Epoch 45, CIFAR-10 Batch 2:  Loss:     0.5780 Validation Accuracy: 0.623600\n",
      "Epoch 45, CIFAR-10 Batch 3:  Loss:     0.3896 Validation Accuracy: 0.614400\n",
      "Epoch 45, CIFAR-10 Batch 4:  Loss:     0.4456 Validation Accuracy: 0.624600\n",
      "Epoch 45, CIFAR-10 Batch 5:  Loss:     0.6147 Validation Accuracy: 0.608400\n",
      "Epoch 46, CIFAR-10 Batch 1:  Loss:     0.6552 Validation Accuracy: 0.611400\n",
      "Epoch 46, CIFAR-10 Batch 2:  Loss:     0.5236 Validation Accuracy: 0.618600\n",
      "Epoch 46, CIFAR-10 Batch 3:  Loss:     0.4112 Validation Accuracy: 0.605200\n",
      "Epoch 46, CIFAR-10 Batch 4:  Loss:     0.4829 Validation Accuracy: 0.616200\n",
      "Epoch 46, CIFAR-10 Batch 5:  Loss:     0.5787 Validation Accuracy: 0.614800\n",
      "Epoch 47, CIFAR-10 Batch 1:  Loss:     0.6514 Validation Accuracy: 0.611000\n",
      "Epoch 47, CIFAR-10 Batch 2:  Loss:     0.5054 Validation Accuracy: 0.622400\n",
      "Epoch 47, CIFAR-10 Batch 3:  Loss:     0.3802 Validation Accuracy: 0.613000\n",
      "Epoch 47, CIFAR-10 Batch 4:  Loss:     0.4976 Validation Accuracy: 0.622400\n",
      "Epoch 47, CIFAR-10 Batch 5:  Loss:     0.5895 Validation Accuracy: 0.617400\n",
      "Epoch 48, CIFAR-10 Batch 1:  Loss:     0.6118 Validation Accuracy: 0.615200\n",
      "Epoch 48, CIFAR-10 Batch 2:  Loss:     0.5574 Validation Accuracy: 0.625800\n",
      "Epoch 48, CIFAR-10 Batch 3:  Loss:     0.3972 Validation Accuracy: 0.622200\n",
      "Epoch 48, CIFAR-10 Batch 4:  Loss:     0.5148 Validation Accuracy: 0.620200\n",
      "Epoch 48, CIFAR-10 Batch 5:  Loss:     0.6282 Validation Accuracy: 0.613800\n",
      "Epoch 49, CIFAR-10 Batch 1:  Loss:     0.6529 Validation Accuracy: 0.610000\n",
      "Epoch 49, CIFAR-10 Batch 2:  Loss:     0.4872 Validation Accuracy: 0.601800\n",
      "Epoch 49, CIFAR-10 Batch 3:  Loss:     0.3426 Validation Accuracy: 0.629400\n",
      "Epoch 49, CIFAR-10 Batch 4:  Loss:     0.4406 Validation Accuracy: 0.626000\n",
      "Epoch 49, CIFAR-10 Batch 5:  Loss:     0.5685 Validation Accuracy: 0.624200\n",
      "Epoch 50, CIFAR-10 Batch 1:  Loss:     0.5952 Validation Accuracy: 0.614600\n",
      "Epoch 50, CIFAR-10 Batch 2:  Loss:     0.5662 Validation Accuracy: 0.624000\n",
      "Epoch 50, CIFAR-10 Batch 3:  Loss:     0.3676 Validation Accuracy: 0.629000\n",
      "Epoch 50, CIFAR-10 Batch 4:  Loss:     0.4677 Validation Accuracy: 0.617800\n",
      "Epoch 50, CIFAR-10 Batch 5:  Loss:     0.5688 Validation Accuracy: 0.621400\n"
     ]
    }
   ],
   "source": [
    "\"\"\"\n",
    "DON'T MODIFY ANYTHING IN THIS CELL\n",
    "\"\"\"\n",
    "save_model_path = './image_classification'\n",
    "\n",
    "print('Training...')\n",
    "with tf.Session() as sess:\n",
    "    # Initializing the variables\n",
    "    sess.run(tf.global_variables_initializer())\n",
    "    \n",
    "    # Training cycle\n",
    "    for epoch in range(epochs):\n",
    "        # Loop over all batches\n",
    "        n_batches = 5\n",
    "        for batch_i in range(1, n_batches + 1):\n",
    "            for batch_features, batch_labels in helper.load_preprocess_training_batch(batch_i, batch_size):\n",
    "                train_neural_network(sess, optimizer, keep_probability, batch_features, batch_labels)\n",
    "            print('Epoch {:>2}, CIFAR-10 Batch {}:  '.format(epoch + 1, batch_i), end='')\n",
    "            print_stats(sess, batch_features, batch_labels, cost, accuracy)\n",
    "            \n",
    "    # Save Model\n",
    "    saver = tf.train.Saver()\n",
    "    save_path = saver.save(sess, save_model_path)"
   ]
  },
  {
   "cell_type": "markdown",
   "metadata": {
    "deletable": true,
    "editable": true
   },
   "source": [
    "# Checkpoint\n",
    "The model has been saved to disk.\n",
    "## Test Model\n",
    "Test your model against the test dataset.  This will be your final accuracy. You should have an accuracy greater than 50%. If you don't, keep tweaking the model architecture and parameters."
   ]
  },
  {
   "cell_type": "code",
   "execution_count": 127,
   "metadata": {
    "collapsed": false,
    "deletable": true,
    "editable": true
   },
   "outputs": [
    {
     "name": "stdout",
     "output_type": "stream",
     "text": [
      "Testing Accuracy: 0.6145174050632911\n",
      "\n"
     ]
    },
    {
     "data": {
      "image/png": "[encoded data removed]",
      "text/plain": [
       "<matplotlib.figure.Figure at 0x7fda90f96f98>"
      ]
     },
     "metadata": {
      "image/png": {
       "height": 319,
       "width": 355
      }
     },
     "output_type": "display_data"
    }
   ],
   "source": [
    "\"\"\"\n",
    "DON'T MODIFY ANYTHING IN THIS CELL\n",
    "\"\"\"\n",
    "%matplotlib inline\n",
    "%config InlineBackend.figure_format = 'retina'\n",
    "\n",
    "import tensorflow as tf\n",
    "import pickle\n",
    "import helper\n",
    "import random\n",
    "\n",
    "# Set batch size if not already set\n",
    "try:\n",
    "    if batch_size:\n",
    "        pass\n",
    "except NameError:\n",
    "    batch_size = 64\n",
    "\n",
    "save_model_path = './image_classification'\n",
    "n_samples = 4\n",
    "top_n_predictions = 3\n",
    "\n",
    "def test_model():\n",
    "    \"\"\"\n",
    "    Test the saved model against the test dataset\n",
    "    \"\"\"\n",
    "\n",
    "    test_features, test_labels = pickle.load(open('preprocess_training.p', mode='rb'))\n",
    "    loaded_graph = tf.Graph()\n",
    "\n",
    "    with tf.Session(graph=loaded_graph) as sess:\n",
    "        # Load model\n",
    "        loader = tf.train.import_meta_graph(save_model_path + '.meta')\n",
    "        loader.restore(sess, save_model_path)\n",
    "\n",
    "        # Get Tensors from loaded model\n",
    "        loaded_x = loaded_graph.get_tensor_by_name('x:0')\n",
    "        loaded_y = loaded_graph.get_tensor_by_name('y:0')\n",
    "        loaded_keep_prob = loaded_graph.get_tensor_by_name('keep_prob:0')\n",
    "        loaded_logits = loaded_graph.get_tensor_by_name('logits:0')\n",
    "        loaded_acc = loaded_graph.get_tensor_by_name('accuracy:0')\n",
    "        \n",
    "        # Get accuracy in batches for memory limitations\n",
    "        test_batch_acc_total = 0\n",
    "        test_batch_count = 0\n",
    "        \n",
    "        for train_feature_batch, train_label_batch in helper.batch_features_labels(test_features, test_labels, batch_size):\n",
    "            test_batch_acc_total += sess.run(\n",
    "                loaded_acc,\n",
    "                feed_dict={loaded_x: train_feature_batch, loaded_y: train_label_batch, loaded_keep_prob: 1.0})\n",
    "            test_batch_count += 1\n",
    "\n",
    "        print('Testing Accuracy: {}\\n'.format(test_batch_acc_total/test_batch_count))\n",
    "\n",
    "        # Print Random Samples\n",
    "        random_test_features, random_test_labels = tuple(zip(*random.sample(list(zip(test_features, test_labels)), n_samples)))\n",
    "        random_test_predictions = sess.run(\n",
    "            tf.nn.top_k(tf.nn.softmax(loaded_logits), top_n_predictions),\n",
    "            feed_dict={loaded_x: random_test_features, loaded_y: random_test_labels, loaded_keep_prob: 1.0})\n",
    "        helper.display_image_predictions(random_test_features, random_test_labels, random_test_predictions)\n",
    "\n",
    "\n",
    "test_model()"
   ]
  },
  {
   "cell_type": "markdown",
   "metadata": {
    "deletable": true,
    "editable": true
   },
   "source": [
    "## Why 50-80% Accuracy?\n",
    "You might be wondering why you can't get an accuracy any higher. First things first, 50% isn't bad for a simple CNN.  Pure guessing would get you 10% accuracy. However, you might notice people are getting scores [well above 80%](http://rodrigob.github.io/are_we_there_yet/build/classification_datasets_results.html#43494641522d3130).  That's because we haven't taught you all there is to know about neural networks. We still need to cover a few more techniques.\n",
    "## Submitting This Project\n",
    "When submitting this project, make sure to run all the cells before saving the notebook.  Save the notebook file as \"dlnd_image_classification.ipynb\" and save it as a HTML file under \"File\" -> \"Download as\".  Include the \"helper.py\" and \"problem_unittests.py\" files in your submission."
   ]
  }
 ],
 "metadata": {
  "kernelspec": {
   "display_name": "Python 3",
   "language": "python",
   "name": "python3"
  },
  "language_info": {
   "codemirror_mode": {
    "name": "ipython",
    "version": 3
   },
   "file_extension": ".py",
   "mimetype": "text/x-python",
   "name": "python",
   "nbconvert_exporter": "python",
   "pygments_lexer": "ipython3",
   "version": "3.5.2"
  },
  "widgets": {
   "state": {},
   "version": "1.1.2"
  }
 },
 "nbformat": 4,
 "nbformat_minor": 0
}
